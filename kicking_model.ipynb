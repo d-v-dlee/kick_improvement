{
 "cells": [
  {
   "cell_type": "code",
   "execution_count": 1,
   "metadata": {},
   "outputs": [],
   "source": [
    "import pandas as pd\n",
    "import numpy as np\n",
    "from kick_cleaner import clean_kick_data, replace_kicker_with_num, kick_dictionary, model_comparison"
   ]
  },
  {
   "cell_type": "code",
   "execution_count": 2,
   "metadata": {},
   "outputs": [
    {
     "data": {
      "text/html": [
       "<div>\n",
       "<style scoped>\n",
       "    .dataframe tbody tr th:only-of-type {\n",
       "        vertical-align: middle;\n",
       "    }\n",
       "\n",
       "    .dataframe tbody tr th {\n",
       "        vertical-align: top;\n",
       "    }\n",
       "\n",
       "    .dataframe thead th {\n",
       "        text-align: right;\n",
       "    }\n",
       "</style>\n",
       "<table border=\"1\" class=\"dataframe\">\n",
       "  <thead>\n",
       "    <tr style=\"text-align: right;\">\n",
       "      <th></th>\n",
       "      <th>FieldGoalDistance</th>\n",
       "      <th>HomeTeam</th>\n",
       "      <th>Month</th>\n",
       "      <th>KickerName</th>\n",
       "      <th>FieldGoalResult</th>\n",
       "    </tr>\n",
       "  </thead>\n",
       "  <tbody>\n",
       "    <tr>\n",
       "      <th>0</th>\n",
       "      <td>25.0</td>\n",
       "      <td>DEN</td>\n",
       "      <td>9</td>\n",
       "      <td>J.Tucker</td>\n",
       "      <td>1.0</td>\n",
       "    </tr>\n",
       "    <tr>\n",
       "      <th>1</th>\n",
       "      <td>30.0</td>\n",
       "      <td>DEN</td>\n",
       "      <td>9</td>\n",
       "      <td>J.Tucker</td>\n",
       "      <td>1.0</td>\n",
       "    </tr>\n",
       "    <tr>\n",
       "      <th>2</th>\n",
       "      <td>48.0</td>\n",
       "      <td>BUF</td>\n",
       "      <td>9</td>\n",
       "      <td>S.Gostkowski</td>\n",
       "      <td>1.0</td>\n",
       "    </tr>\n",
       "    <tr>\n",
       "      <th>3</th>\n",
       "      <td>33.0</td>\n",
       "      <td>BUF</td>\n",
       "      <td>9</td>\n",
       "      <td>S.Gostkowski</td>\n",
       "      <td>1.0</td>\n",
       "    </tr>\n",
       "    <tr>\n",
       "      <th>4</th>\n",
       "      <td>35.0</td>\n",
       "      <td>BUF</td>\n",
       "      <td>9</td>\n",
       "      <td>S.Gostkowski</td>\n",
       "      <td>1.0</td>\n",
       "    </tr>\n",
       "  </tbody>\n",
       "</table>\n",
       "</div>"
      ],
      "text/plain": [
       "   FieldGoalDistance HomeTeam  Month    KickerName  FieldGoalResult\n",
       "0               25.0      DEN      9      J.Tucker              1.0\n",
       "1               30.0      DEN      9      J.Tucker              1.0\n",
       "2               48.0      BUF      9  S.Gostkowski              1.0\n",
       "3               33.0      BUF      9  S.Gostkowski              1.0\n",
       "4               35.0      BUF      9  S.Gostkowski              1.0"
      ]
     },
     "execution_count": 2,
     "metadata": {},
     "output_type": "execute_result"
    }
   ],
   "source": [
    "kick_df = clean_kick_data('field_goals.csv')\n",
    "kick_df.head()"
   ]
  },
  {
   "cell_type": "markdown",
   "metadata": {},
   "source": [
    "**turns kickers and stadiums into numerical values, change them in the dataframe**"
   ]
  },
  {
   "cell_type": "code",
   "execution_count": 3,
   "metadata": {},
   "outputs": [],
   "source": [
    "kickers_dict = kick_dictionary(kick_df, 'KickerName')\n",
    "stadium_dict = kick_dictionary(kick_df, 'HomeTeam')\n"
   ]
  },
  {
   "cell_type": "code",
   "execution_count": 4,
   "metadata": {},
   "outputs": [],
   "source": [
    "kick_df1 = replace_kicker_with_num(kick_df, 'KickerName')\n",
    "kick_df2 = replace_kicker_with_num(kick_df1, 'HomeTeam')"
   ]
  },
  {
   "cell_type": "markdown",
   "metadata": {},
   "source": [
    "## for log loss kickers/stadius have to be all dummy variables..."
   ]
  },
  {
   "cell_type": "code",
   "execution_count": 5,
   "metadata": {},
   "outputs": [
    {
     "data": {
      "text/html": [
       "<div>\n",
       "<style scoped>\n",
       "    .dataframe tbody tr th:only-of-type {\n",
       "        vertical-align: middle;\n",
       "    }\n",
       "\n",
       "    .dataframe tbody tr th {\n",
       "        vertical-align: top;\n",
       "    }\n",
       "\n",
       "    .dataframe thead th {\n",
       "        text-align: right;\n",
       "    }\n",
       "</style>\n",
       "<table border=\"1\" class=\"dataframe\">\n",
       "  <thead>\n",
       "    <tr style=\"text-align: right;\">\n",
       "      <th></th>\n",
       "      <th>FieldGoalDistance</th>\n",
       "      <th>HomeTeam</th>\n",
       "      <th>Month</th>\n",
       "      <th>KickerName</th>\n",
       "      <th>FieldGoalResult</th>\n",
       "    </tr>\n",
       "  </thead>\n",
       "  <tbody>\n",
       "    <tr>\n",
       "      <th>0</th>\n",
       "      <td>25.0</td>\n",
       "      <td>1</td>\n",
       "      <td>9</td>\n",
       "      <td>1</td>\n",
       "      <td>1.0</td>\n",
       "    </tr>\n",
       "    <tr>\n",
       "      <th>1</th>\n",
       "      <td>30.0</td>\n",
       "      <td>1</td>\n",
       "      <td>9</td>\n",
       "      <td>1</td>\n",
       "      <td>1.0</td>\n",
       "    </tr>\n",
       "    <tr>\n",
       "      <th>2</th>\n",
       "      <td>48.0</td>\n",
       "      <td>2</td>\n",
       "      <td>9</td>\n",
       "      <td>2</td>\n",
       "      <td>1.0</td>\n",
       "    </tr>\n",
       "    <tr>\n",
       "      <th>3</th>\n",
       "      <td>33.0</td>\n",
       "      <td>2</td>\n",
       "      <td>9</td>\n",
       "      <td>2</td>\n",
       "      <td>1.0</td>\n",
       "    </tr>\n",
       "    <tr>\n",
       "      <th>4</th>\n",
       "      <td>35.0</td>\n",
       "      <td>2</td>\n",
       "      <td>9</td>\n",
       "      <td>2</td>\n",
       "      <td>1.0</td>\n",
       "    </tr>\n",
       "  </tbody>\n",
       "</table>\n",
       "</div>"
      ],
      "text/plain": [
       "   FieldGoalDistance  HomeTeam  Month  KickerName  FieldGoalResult\n",
       "0               25.0         1      9           1              1.0\n",
       "1               30.0         1      9           1              1.0\n",
       "2               48.0         2      9           2              1.0\n",
       "3               33.0         2      9           2              1.0\n",
       "4               35.0         2      9           2              1.0"
      ]
     },
     "execution_count": 5,
     "metadata": {},
     "output_type": "execute_result"
    }
   ],
   "source": [
    "kick_df2.head()"
   ]
  },
  {
   "cell_type": "markdown",
   "metadata": {},
   "source": [
    "### splitting data and testing models "
   ]
  },
  {
   "cell_type": "code",
   "execution_count": 6,
   "metadata": {},
   "outputs": [],
   "source": [
    "from sklearn.linear_model import LogisticRegression\n",
    "from sklearn.metrics import log_loss\n",
    "from sklearn.model_selection import train_test_split\n",
    "from sklearn.ensemble import  RandomForestClassifier, GradientBoostingClassifier\n",
    "from sklearn.metrics import mean_squared_log_error, mean_squared_error"
   ]
  },
  {
   "cell_type": "code",
   "execution_count": 7,
   "metadata": {},
   "outputs": [],
   "source": [
    "test_df = kick_df2.sample(frac=0.200077, random_state=30)\n",
    "final_test_x = test_df.iloc[:, :-1]\n",
    "final_test_y = test_df.iloc[:, -1]"
   ]
  },
  {
   "cell_type": "code",
   "execution_count": 8,
   "metadata": {},
   "outputs": [],
   "source": [
    "train_df = kick_df2.drop(test_df.index)\n",
    "y = train_df.iloc[:, -1]\n",
    "data = train_df.iloc[:, :-1]"
   ]
  },
  {
   "cell_type": "markdown",
   "metadata": {},
   "source": [
    "### use stage predict for the gradient boost"
   ]
  },
  {
   "cell_type": "code",
   "execution_count": 30,
   "metadata": {},
   "outputs": [
    {
     "name": "stdout",
     "output_type": "stream",
     "text": [
      "Ensemble Log Loss 0.34886391130202193\n",
      "Gradient Boost Log Loss 0.35082180764459214\n",
      "Random Forest Log Loss 0.35575320244857045\n",
      "Logistic Log Loss 0.345752704359777\n"
     ]
    },
    {
     "name": "stderr",
     "output_type": "stream",
     "text": [
      "[Parallel(n_jobs=1)]: Done 300 out of 300 | elapsed:    0.3s finished\n",
      "[Parallel(n_jobs=1)]: Done 300 out of 300 | elapsed:    0.0s finished\n"
     ]
    }
   ],
   "source": [
    "X_train, X_test, y_train, y_test = train_test_split(data,y)\n",
    "\n",
    "logistic_model = LogisticRegression()\n",
    "gradient_boost_model = GradientBoostingClassifier(learning_rate=0.005, max_depth=6, max_features='log2', min_samples_leaf=4, n_estimators=500, subsample=0.25)\n",
    "random_forest_model = RandomForestClassifier(n_estimators=300, max_depth=3, verbose=1)\n",
    "\n",
    "logistic_model.fit(X_train, y_train)\n",
    "gradient_boost_model.fit(X_train, y_train)\n",
    "random_forest_model.fit(X_train, y_train)\n",
    "\n",
    "p_random_forest = random_forest_model.predict_proba(X_test)\n",
    "p_gradient_boost =  gradient_boost_model.predict_proba(X_test)\n",
    "p_logistic = logistic_model.predict_proba(X_test)\n",
    "\n",
    "ensemble_p = (p_random_forest[:,1] + p_gradient_boost[:,1] + p_logistic[:,1])/3\n",
    "\n",
    "random_forest_ll = log_loss(y_test, p_random_forest )\n",
    "gradient_boost_ll = log_loss(y_test, p_gradient_boost )\n",
    "logistic_ll = log_loss(y_test, p_logistic )\n",
    "ensemble_ll = log_loss(y_test, ensemble_p )\n",
    "\n",
    "# fig, axs = plot_partial_dependence(gradient_boost_model, X = X_train, features = [0,1,2,3,(1,4)],\n",
    "#                                        feature_names=list(X_train.columns),\n",
    "#                                        n_jobs=1, grid_resolution=100, figsize = (20, 20))\n",
    "# plt.show()                                       \n",
    "\n",
    "\n",
    "print(\"Ensemble Log Loss \" + str(ensemble_ll))\n",
    "print(\"Gradient Boost Log Loss \" + str(gradient_boost_ll))\n",
    "print(\"Random Forest Log Loss \" + str(random_forest_ll))\n",
    "print(\"Logistic Log Loss \" + str(logistic_ll))"
   ]
  },
  {
   "cell_type": "markdown",
   "metadata": {},
   "source": [
    "** by log loss, logistic regression is the best **"
   ]
  },
  {
   "cell_type": "markdown",
   "metadata": {},
   "source": [
    "### using the logistic regression model to predict kick outcomes\n",
    "\n",
    "predicting kicker probabilities by inputting kicker name, stadium, month"
   ]
  },
  {
   "cell_type": "code",
   "execution_count": 11,
   "metadata": {},
   "outputs": [],
   "source": [
    "from kick_cleaner import kicker_dataframe"
   ]
  },
  {
   "cell_type": "code",
   "execution_count": 12,
   "metadata": {},
   "outputs": [
    {
     "data": {
      "text/plain": [
       "{'J.Tucker': 1,\n",
       " 'S.Gostkowski': 2,\n",
       " 'R.Bironas': 3,\n",
       " 'M.Bryant': 4,\n",
       " 'G.Hartley': 5,\n",
       " 'N.Folk': 6,\n",
       " 'R.Lindell': 7,\n",
       " 'S.Hauschka': 8,\n",
       " 'R.Gould': 9,\n",
       " 'C.Sturgis': 10,\n",
       " 'B.Cundiff': 11,\n",
       " 'B.Walsh': 12,\n",
       " 'S.Janikowski': 13,\n",
       " 'P.Dawson': 14,\n",
       " 'G.Zuerlein': 15,\n",
       " 'J.Feely': 16,\n",
       " 'D.Bailey': 17,\n",
       " 'J.Brown': 18,\n",
       " 'A.Henery': 19,\n",
       " 'K.Forbath': 20,\n",
       " 'R.Bullock': 21,\n",
       " 'N.Novak': 22,\n",
       " 'R.Succop': 23,\n",
       " 'A.Vinatieri': 24,\n",
       " 'M.Crosby': 25,\n",
       " 'D.Carpenter': 26,\n",
       " 'G.Gano': 27,\n",
       " 'J.Scobee': 28,\n",
       " 'M.Prater': 29,\n",
       " 'S.Suisham': 30,\n",
       " 'M.Nugent': 31,\n",
       " 'S.Graham': 32,\n",
       " 'C.Parkey': 33,\n",
       " 'C.Santos': 34,\n",
       " 'B.McManus': 35,\n",
       " 'C.Catanzaro': 36,\n",
       " 'P.Murray': 37,\n",
       " 'C.Barth': 38,\n",
       " 'T.Coons': 39,\n",
       " 'A.Franks': 40,\n",
       " 'J.Myers': 41,\n",
       " 'J.Lambo': 42,\n",
       " 'D.Hopkins': 43,\n",
       " 'C.Boswell': 44,\n",
       " 'R.Aguayo': 45,\n",
       " 'W.Lutz': 46,\n",
       " 'Z.Gonzalez': 47,\n",
       " 'A.Rosas': 48,\n",
       " 'K.Fairbairn': 49,\n",
       " 'J.Elliott': 50,\n",
       " 'H.Butker': 51}"
      ]
     },
     "execution_count": 12,
     "metadata": {},
     "output_type": "execute_result"
    }
   ],
   "source": [
    "#  stadium_dict\n",
    "kickers_dict"
   ]
  },
  {
   "cell_type": "code",
   "execution_count": 13,
   "metadata": {},
   "outputs": [],
   "source": [
    "hausch_kicks = kicker_dataframe(kickers_dict, stadium_dict, 'S.Hauschka', 'SEA', 10)\n",
    "bailey_kicks = kicker_dataframe(kickers_dict, stadium_dict, 'D.Bailey', 'NYG', 10)\n",
    "santos_kicks = kicker_dataframe(kickers_dict, stadium_dict, 'C.Santos', 'KC', 10)\n",
    "aguayo_kicks = kicker_dataframe(kickers_dict, stadium_dict, 'R.Aguayo', 'TB', 10)"
   ]
  },
  {
   "cell_type": "code",
   "execution_count": 14,
   "metadata": {},
   "outputs": [],
   "source": [
    "#essentially makes this but from 25 - 62 yards:\n",
    "\n",
    "possible_kicks = pd.DataFrame({'FieldGoalDistance': [25, 30, 35, 40, 45, 50, 55, 60],\n",
    "                              'HomeTeam': [15, 15, 15, 15, 15, 15, 15, 15],\n",
    "                              'Month': [10, 10, 10, 10, 10, 10, 10, 10],\n",
    "                              'KickerName': [45, 45, 45, 45, 45, 45, 45, 45]})"
   ]
  },
  {
   "cell_type": "code",
   "execution_count": 15,
   "metadata": {},
   "outputs": [
    {
     "data": {
      "text/plain": [
       "array([[0.04327739, 0.95672261],\n",
       "       [0.04507867, 0.95492133],\n",
       "       [0.05460161, 0.94539839],\n",
       "       [0.05657557, 0.94342443],\n",
       "       [0.05532101, 0.94467899],\n",
       "       [0.0524514 , 0.9475486 ],\n",
       "       [0.0526989 , 0.9473011 ],\n",
       "       [0.05734106, 0.94265894],\n",
       "       [0.0601449 , 0.9398551 ],\n",
       "       [0.07510225, 0.92489775],\n",
       "       [0.08327564, 0.91672436],\n",
       "       [0.09473039, 0.90526961],\n",
       "       [0.1191399 , 0.8808601 ],\n",
       "       [0.11208806, 0.88791194],\n",
       "       [0.1018241 , 0.8981759 ],\n",
       "       [0.10573096, 0.89426904],\n",
       "       [0.09698304, 0.90301696],\n",
       "       [0.10210972, 0.89789028],\n",
       "       [0.12811124, 0.87188876],\n",
       "       [0.15526863, 0.84473137],\n",
       "       [0.16352468, 0.83647532],\n",
       "       [0.23546601, 0.76453399],\n",
       "       [0.2181852 , 0.7818148 ],\n",
       "       [0.22069823, 0.77930177],\n",
       "       [0.21945052, 0.78054948],\n",
       "       [0.25055035, 0.74944965],\n",
       "       [0.25948748, 0.74051252],\n",
       "       [0.33475134, 0.66524866],\n",
       "       [0.33667381, 0.66332619],\n",
       "       [0.39438286, 0.60561714],\n",
       "       [0.52939036, 0.47060964],\n",
       "       [0.57259417, 0.42740583],\n",
       "       [0.61855257, 0.38144743],\n",
       "       [0.69412939, 0.30587061],\n",
       "       [0.70109227, 0.29890773],\n",
       "       [0.70750856, 0.29249144],\n",
       "       [0.70750856, 0.29249144]])"
      ]
     },
     "execution_count": 15,
     "metadata": {},
     "output_type": "execute_result"
    }
   ],
   "source": [
    "#over 90% from 25-39 yards\n",
    "#over 80% up to 47 yards\n",
    "#over 70% up to 51 yards\n",
    "#logistic_model.predict_proba(hausch_kicks)\n",
    "gradient_boost_model.predict_proba(hausch_kicks)"
   ]
  },
  {
   "cell_type": "code",
   "execution_count": 16,
   "metadata": {},
   "outputs": [
    {
     "data": {
      "text/plain": [
       "array([[0.03366066, 0.96633934],\n",
       "       [0.03709501, 0.96290499],\n",
       "       [0.04086494, 0.95913506],\n",
       "       [0.0450001 , 0.9549999 ],\n",
       "       [0.04953209, 0.95046791],\n",
       "       [0.05449445, 0.94550555],\n",
       "       [0.05992263, 0.94007737],\n",
       "       [0.06585384, 0.93414616],\n",
       "       [0.07232697, 0.92767303],\n",
       "       [0.0793823 , 0.9206177 ],\n",
       "       [0.08706127, 0.91293873],\n",
       "       [0.09540609, 0.90459391],\n",
       "       [0.10445923, 0.89554077],\n",
       "       [0.11426292, 0.88573708],\n",
       "       [0.12485843, 0.87514157],\n",
       "       [0.13628527, 0.86371473],\n",
       "       [0.14858032, 0.85141968],\n",
       "       [0.16177683, 0.83822317],\n",
       "       [0.17590326, 0.82409674],\n",
       "       [0.19098217, 0.80901783],\n",
       "       [0.20702896, 0.79297104],\n",
       "       [0.22405064, 0.77594936],\n",
       "       [0.24204464, 0.75795536],\n",
       "       [0.26099769, 0.73900231],\n",
       "       [0.28088487, 0.71911513],\n",
       "       [0.3016688 , 0.6983312 ],\n",
       "       [0.32329923, 0.67670077],\n",
       "       [0.3457128 , 0.6542872 ],\n",
       "       [0.36883331, 0.63116669],\n",
       "       [0.39257233, 0.60742767],\n",
       "       [0.4168302 , 0.5831698 ],\n",
       "       [0.44149753, 0.55850247],\n",
       "       [0.46645702, 0.53354298],\n",
       "       [0.49158557, 0.50841443],\n",
       "       [0.51675671, 0.48324329],\n",
       "       [0.54184311, 0.45815689],\n",
       "       [0.56671914, 0.43328086]])"
      ]
     },
     "execution_count": 16,
     "metadata": {},
     "output_type": "execute_result"
    }
   ],
   "source": [
    "logistic_model.predict_proba(bailey_kicks)"
   ]
  },
  {
   "cell_type": "code",
   "execution_count": 17,
   "metadata": {},
   "outputs": [
    {
     "data": {
      "text/plain": [
       "array([[0.03786365, 0.96213635],\n",
       "       [0.03862579, 0.96137421],\n",
       "       [0.04479773, 0.95520227],\n",
       "       [0.04425974, 0.95574026],\n",
       "       [0.04344256, 0.95655744],\n",
       "       [0.04200136, 0.95799864],\n",
       "       [0.04213916, 0.95786084],\n",
       "       [0.04871018, 0.95128982],\n",
       "       [0.04762818, 0.95237182],\n",
       "       [0.06232319, 0.93767681],\n",
       "       [0.08151108, 0.91848892],\n",
       "       [0.08766557, 0.91233443],\n",
       "       [0.116252  , 0.883748  ],\n",
       "       [0.12468131, 0.87531869],\n",
       "       [0.11571477, 0.88428523],\n",
       "       [0.12692958, 0.87307042],\n",
       "       [0.1109281 , 0.8890719 ],\n",
       "       [0.12387214, 0.87612786],\n",
       "       [0.14077331, 0.85922669],\n",
       "       [0.15814861, 0.84185139],\n",
       "       [0.18329837, 0.81670163],\n",
       "       [0.23325923, 0.76674077],\n",
       "       [0.22027205, 0.77972795],\n",
       "       [0.24601172, 0.75398828],\n",
       "       [0.23158805, 0.76841195],\n",
       "       [0.29946599, 0.70053401],\n",
       "       [0.28436499, 0.71563501],\n",
       "       [0.34445478, 0.65554522],\n",
       "       [0.33876545, 0.66123455],\n",
       "       [0.37054635, 0.62945365],\n",
       "       [0.53158768, 0.46841232],\n",
       "       [0.52932704, 0.47067296],\n",
       "       [0.53637992, 0.46362008],\n",
       "       [0.64015903, 0.35984097],\n",
       "       [0.64662202, 0.35337798],\n",
       "       [0.65415592, 0.34584408],\n",
       "       [0.65415592, 0.34584408]])"
      ]
     },
     "execution_count": 17,
     "metadata": {},
     "output_type": "execute_result"
    }
   ],
   "source": [
    "#over 90% up to 39 yards\n",
    "#over 80% up to 47 yards\n",
    "#over 70% up to 51 yards\n",
    "gradient_boost_model.predict_proba(bailey_kicks)"
   ]
  },
  {
   "cell_type": "code",
   "execution_count": 32,
   "metadata": {},
   "outputs": [],
   "source": [
    "# #over 90% up to 38 yards\n",
    "# #over 80% up to 45 yards\n",
    "# #over 70% up to 50 yards\n",
    "# logistic_model.predict_proba(santos_kicks)\n",
    "# gradient_boost_model.predict_proba(santos_kicks)\n",
    "# # random_forest_model.predict_proba(santos_kicks)"
   ]
  },
  {
   "cell_type": "code",
   "execution_count": 31,
   "metadata": {},
   "outputs": [],
   "source": [
    "# #over 90% up to 37 yards\n",
    "# #over 80% up to 43 yards\n",
    "# #over 70% up to 49 yards\n",
    "# logistic_model.predict_proba(aguayo_kicks)"
   ]
  },
  {
   "cell_type": "markdown",
   "metadata": {},
   "source": [
    "Find a way to compare the kickers more?"
   ]
  },
  {
   "cell_type": "code",
   "execution_count": null,
   "metadata": {},
   "outputs": [],
   "source": [
    "gbc2 = GradientBoostingClassifier()"
   ]
  },
  {
   "cell_type": "code",
   "execution_count": null,
   "metadata": {},
   "outputs": [],
   "source": []
  },
  {
   "cell_type": "code",
   "execution_count": null,
   "metadata": {},
   "outputs": [],
   "source": []
  },
  {
   "cell_type": "markdown",
   "metadata": {},
   "source": [
    "# run more gradient boost models with last 30 percent\n",
    "\n",
    "is there a python package for scraping NFL data"
   ]
  }
 ],
 "metadata": {
  "kernelspec": {
   "display_name": "Python 3",
   "language": "python",
   "name": "python3"
  },
  "language_info": {
   "codemirror_mode": {
    "name": "ipython",
    "version": 3
   },
   "file_extension": ".py",
   "mimetype": "text/x-python",
   "name": "python",
   "nbconvert_exporter": "python",
   "pygments_lexer": "ipython3",
   "version": "3.6.6"
  }
 },
 "nbformat": 4,
 "nbformat_minor": 2
}
