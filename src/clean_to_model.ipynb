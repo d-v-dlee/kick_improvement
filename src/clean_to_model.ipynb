{
 "cells": [
  {
   "cell_type": "code",
   "execution_count": 1,
   "metadata": {},
   "outputs": [],
   "source": [
    "import sys\n",
    "sys.path.insert(0, '/Users/david/statsbomb/kick_improvement')"
   ]
  },
  {
   "cell_type": "code",
   "execution_count": 92,
   "metadata": {},
   "outputs": [],
   "source": [
    "import pandas as pd\n",
    "import matplotlib.pyplot as plt\n",
    "import matplotlib.image as mpimg"
   ]
  },
  {
   "cell_type": "code",
   "execution_count": 4,
   "metadata": {},
   "outputs": [],
   "source": [
    "pd.set_option('display.max_columns', 50)"
   ]
  },
  {
   "cell_type": "code",
   "execution_count": 5,
   "metadata": {},
   "outputs": [],
   "source": [
    "from clean import clean_kick_data"
   ]
  },
  {
   "cell_type": "code",
   "execution_count": 77,
   "metadata": {},
   "outputs": [],
   "source": [
    "kick_df = pd.read_csv('../data/field_goals.csv')"
   ]
  },
  {
   "cell_type": "code",
   "execution_count": 79,
   "metadata": {},
   "outputs": [
    {
     "data": {
      "text/plain": [
       "array(['J.Tucker', 'S.Gostkowski', 'R.Bironas', 'M.Bryant', 'G.Hartley',\n",
       "       'N.Folk', 'R.Lindell', 'S.Hauschka', 'R.Gould', 'C.Sturgis',\n",
       "       'B.Cundiff', 'D.Akers', 'B.Walsh', 'S.Janikowski', 'P.Dawson',\n",
       "       'G.Zuerlein', 'J.Feely', 'D.Bailey', 'J.Brown', 'A.Henery',\n",
       "       'K.Forbath', 'R.Bullock', 'N.Novak', 'R.Succop', 'A.Vinatieri',\n",
       "       'M.Crosby', 'J.Potter', 'D.Carpenter', 'G.Gano', 'J.Scobee',\n",
       "       'M.Prater', 'S.Suisham', 'M.Nugent', 'S.Graham', 'C.Parkey',\n",
       "       'C.Santos', 'B.McManus', 'N.Freese', 'C.Catanzaro', 'P.Murray',\n",
       "       'C.Barth', 'T.Coons', 'A.Franks', 'J.Myers', 'Z.Hocker', 'J.Lambo',\n",
       "       'K.Brindza', 'D.Hopkins', 'C.Boswell', 'T.Boggs', 'B.Qvale',\n",
       "       'R.Aguayo', 'W.Lutz', 'G.Tavecchio', 'Z.Gonzalez', 'A.Rosas',\n",
       "       'Y.Koo', 'K.Fairbairn', 'J.Elliott', 'H.Butker', 'N.Rose',\n",
       "       'S.Ficken', 'D.Carlson', 'J.Sanders', 'B.Maher', 'J.Hekker',\n",
       "       'G.Joseph', 'M.McCrane'], dtype=object)"
      ]
     },
     "execution_count": 79,
     "metadata": {},
     "output_type": "execute_result"
    }
   ],
   "source": [
    "kick_df['KickerName'].unique()"
   ]
  },
  {
   "cell_type": "code",
   "execution_count": 82,
   "metadata": {},
   "outputs": [
    {
     "data": {
      "text/plain": [
       "2720"
      ]
     },
     "execution_count": 82,
     "metadata": {},
     "output_type": "execute_result"
    }
   ],
   "source": [
    "16 * 10 * 17"
   ]
  },
  {
   "cell_type": "code",
   "execution_count": 6,
   "metadata": {},
   "outputs": [],
   "source": [
    "fg_df = clean_kick_data('../data/field_goals.csv')"
   ]
  },
  {
   "cell_type": "code",
   "execution_count": 9,
   "metadata": {},
   "outputs": [
    {
     "data": {
      "text/html": [
       "<div>\n",
       "<style scoped>\n",
       "    .dataframe tbody tr th:only-of-type {\n",
       "        vertical-align: middle;\n",
       "    }\n",
       "\n",
       "    .dataframe tbody tr th {\n",
       "        vertical-align: top;\n",
       "    }\n",
       "\n",
       "    .dataframe thead th {\n",
       "        text-align: right;\n",
       "    }\n",
       "</style>\n",
       "<table border=\"1\" class=\"dataframe\">\n",
       "  <thead>\n",
       "    <tr style=\"text-align: right;\">\n",
       "      <th></th>\n",
       "      <th>FieldGoalDistance</th>\n",
       "      <th>FieldGoalResult</th>\n",
       "      <th>HomeTeam_DEN</th>\n",
       "      <th>HomeTeam_BUF</th>\n",
       "      <th>HomeTeam_PIT</th>\n",
       "      <th>HomeTeam_NO</th>\n",
       "      <th>HomeTeam_NYJ</th>\n",
       "      <th>HomeTeam_CAR</th>\n",
       "      <th>HomeTeam_CHI</th>\n",
       "      <th>HomeTeam_CLE</th>\n",
       "      <th>HomeTeam_DET</th>\n",
       "      <th>HomeTeam_IND</th>\n",
       "      <th>HomeTeam_SF</th>\n",
       "      <th>HomeTeam_STL</th>\n",
       "      <th>HomeTeam_DAL</th>\n",
       "      <th>HomeTeam_WAS</th>\n",
       "      <th>HomeTeam_SD</th>\n",
       "      <th>HomeTeam_NE</th>\n",
       "      <th>HomeTeam_ATL</th>\n",
       "      <th>HomeTeam_PHI</th>\n",
       "      <th>HomeTeam_KC</th>\n",
       "      <th>HomeTeam_HOU</th>\n",
       "      <th>HomeTeam_GB</th>\n",
       "      <th>HomeTeam_BAL</th>\n",
       "      <th>HomeTeam_TB</th>\n",
       "      <th>...</th>\n",
       "      <th>KickerName_S.Graham</th>\n",
       "      <th>KickerName_C.Parkey</th>\n",
       "      <th>KickerName_C.Santos</th>\n",
       "      <th>KickerName_B.McManus</th>\n",
       "      <th>KickerName_C.Catanzaro</th>\n",
       "      <th>KickerName_P.Murray</th>\n",
       "      <th>KickerName_C.Barth</th>\n",
       "      <th>KickerName_T.Coons</th>\n",
       "      <th>KickerName_A.Franks</th>\n",
       "      <th>KickerName_J.Myers</th>\n",
       "      <th>KickerName_J.Lambo</th>\n",
       "      <th>KickerName_D.Hopkins</th>\n",
       "      <th>KickerName_C.Boswell</th>\n",
       "      <th>KickerName_R.Aguayo</th>\n",
       "      <th>KickerName_W.Lutz</th>\n",
       "      <th>KickerName_Z.Gonzalez</th>\n",
       "      <th>KickerName_A.Rosas</th>\n",
       "      <th>KickerName_K.Fairbairn</th>\n",
       "      <th>KickerName_J.Elliott</th>\n",
       "      <th>KickerName_H.Butker</th>\n",
       "      <th>Month_September</th>\n",
       "      <th>Month_October</th>\n",
       "      <th>Month_November</th>\n",
       "      <th>Month_December</th>\n",
       "      <th>Month_January</th>\n",
       "    </tr>\n",
       "  </thead>\n",
       "  <tbody>\n",
       "    <tr>\n",
       "      <th>0</th>\n",
       "      <td>25.0</td>\n",
       "      <td>1.0</td>\n",
       "      <td>1</td>\n",
       "      <td>0</td>\n",
       "      <td>0</td>\n",
       "      <td>0</td>\n",
       "      <td>0</td>\n",
       "      <td>0</td>\n",
       "      <td>0</td>\n",
       "      <td>0</td>\n",
       "      <td>0</td>\n",
       "      <td>0</td>\n",
       "      <td>0</td>\n",
       "      <td>0</td>\n",
       "      <td>0</td>\n",
       "      <td>0</td>\n",
       "      <td>0</td>\n",
       "      <td>0</td>\n",
       "      <td>0</td>\n",
       "      <td>0</td>\n",
       "      <td>0</td>\n",
       "      <td>0</td>\n",
       "      <td>0</td>\n",
       "      <td>0</td>\n",
       "      <td>0</td>\n",
       "      <td>...</td>\n",
       "      <td>0</td>\n",
       "      <td>0</td>\n",
       "      <td>0</td>\n",
       "      <td>0</td>\n",
       "      <td>0</td>\n",
       "      <td>0</td>\n",
       "      <td>0</td>\n",
       "      <td>0</td>\n",
       "      <td>0</td>\n",
       "      <td>0</td>\n",
       "      <td>0</td>\n",
       "      <td>0</td>\n",
       "      <td>0</td>\n",
       "      <td>0</td>\n",
       "      <td>0</td>\n",
       "      <td>0</td>\n",
       "      <td>0</td>\n",
       "      <td>0</td>\n",
       "      <td>0</td>\n",
       "      <td>0</td>\n",
       "      <td>1</td>\n",
       "      <td>0</td>\n",
       "      <td>0</td>\n",
       "      <td>0</td>\n",
       "      <td>0</td>\n",
       "    </tr>\n",
       "    <tr>\n",
       "      <th>1</th>\n",
       "      <td>30.0</td>\n",
       "      <td>1.0</td>\n",
       "      <td>1</td>\n",
       "      <td>0</td>\n",
       "      <td>0</td>\n",
       "      <td>0</td>\n",
       "      <td>0</td>\n",
       "      <td>0</td>\n",
       "      <td>0</td>\n",
       "      <td>0</td>\n",
       "      <td>0</td>\n",
       "      <td>0</td>\n",
       "      <td>0</td>\n",
       "      <td>0</td>\n",
       "      <td>0</td>\n",
       "      <td>0</td>\n",
       "      <td>0</td>\n",
       "      <td>0</td>\n",
       "      <td>0</td>\n",
       "      <td>0</td>\n",
       "      <td>0</td>\n",
       "      <td>0</td>\n",
       "      <td>0</td>\n",
       "      <td>0</td>\n",
       "      <td>0</td>\n",
       "      <td>...</td>\n",
       "      <td>0</td>\n",
       "      <td>0</td>\n",
       "      <td>0</td>\n",
       "      <td>0</td>\n",
       "      <td>0</td>\n",
       "      <td>0</td>\n",
       "      <td>0</td>\n",
       "      <td>0</td>\n",
       "      <td>0</td>\n",
       "      <td>0</td>\n",
       "      <td>0</td>\n",
       "      <td>0</td>\n",
       "      <td>0</td>\n",
       "      <td>0</td>\n",
       "      <td>0</td>\n",
       "      <td>0</td>\n",
       "      <td>0</td>\n",
       "      <td>0</td>\n",
       "      <td>0</td>\n",
       "      <td>0</td>\n",
       "      <td>1</td>\n",
       "      <td>0</td>\n",
       "      <td>0</td>\n",
       "      <td>0</td>\n",
       "      <td>0</td>\n",
       "    </tr>\n",
       "    <tr>\n",
       "      <th>2</th>\n",
       "      <td>48.0</td>\n",
       "      <td>1.0</td>\n",
       "      <td>0</td>\n",
       "      <td>1</td>\n",
       "      <td>0</td>\n",
       "      <td>0</td>\n",
       "      <td>0</td>\n",
       "      <td>0</td>\n",
       "      <td>0</td>\n",
       "      <td>0</td>\n",
       "      <td>0</td>\n",
       "      <td>0</td>\n",
       "      <td>0</td>\n",
       "      <td>0</td>\n",
       "      <td>0</td>\n",
       "      <td>0</td>\n",
       "      <td>0</td>\n",
       "      <td>0</td>\n",
       "      <td>0</td>\n",
       "      <td>0</td>\n",
       "      <td>0</td>\n",
       "      <td>0</td>\n",
       "      <td>0</td>\n",
       "      <td>0</td>\n",
       "      <td>0</td>\n",
       "      <td>...</td>\n",
       "      <td>0</td>\n",
       "      <td>0</td>\n",
       "      <td>0</td>\n",
       "      <td>0</td>\n",
       "      <td>0</td>\n",
       "      <td>0</td>\n",
       "      <td>0</td>\n",
       "      <td>0</td>\n",
       "      <td>0</td>\n",
       "      <td>0</td>\n",
       "      <td>0</td>\n",
       "      <td>0</td>\n",
       "      <td>0</td>\n",
       "      <td>0</td>\n",
       "      <td>0</td>\n",
       "      <td>0</td>\n",
       "      <td>0</td>\n",
       "      <td>0</td>\n",
       "      <td>0</td>\n",
       "      <td>0</td>\n",
       "      <td>1</td>\n",
       "      <td>0</td>\n",
       "      <td>0</td>\n",
       "      <td>0</td>\n",
       "      <td>0</td>\n",
       "    </tr>\n",
       "    <tr>\n",
       "      <th>3</th>\n",
       "      <td>33.0</td>\n",
       "      <td>1.0</td>\n",
       "      <td>0</td>\n",
       "      <td>1</td>\n",
       "      <td>0</td>\n",
       "      <td>0</td>\n",
       "      <td>0</td>\n",
       "      <td>0</td>\n",
       "      <td>0</td>\n",
       "      <td>0</td>\n",
       "      <td>0</td>\n",
       "      <td>0</td>\n",
       "      <td>0</td>\n",
       "      <td>0</td>\n",
       "      <td>0</td>\n",
       "      <td>0</td>\n",
       "      <td>0</td>\n",
       "      <td>0</td>\n",
       "      <td>0</td>\n",
       "      <td>0</td>\n",
       "      <td>0</td>\n",
       "      <td>0</td>\n",
       "      <td>0</td>\n",
       "      <td>0</td>\n",
       "      <td>0</td>\n",
       "      <td>...</td>\n",
       "      <td>0</td>\n",
       "      <td>0</td>\n",
       "      <td>0</td>\n",
       "      <td>0</td>\n",
       "      <td>0</td>\n",
       "      <td>0</td>\n",
       "      <td>0</td>\n",
       "      <td>0</td>\n",
       "      <td>0</td>\n",
       "      <td>0</td>\n",
       "      <td>0</td>\n",
       "      <td>0</td>\n",
       "      <td>0</td>\n",
       "      <td>0</td>\n",
       "      <td>0</td>\n",
       "      <td>0</td>\n",
       "      <td>0</td>\n",
       "      <td>0</td>\n",
       "      <td>0</td>\n",
       "      <td>0</td>\n",
       "      <td>1</td>\n",
       "      <td>0</td>\n",
       "      <td>0</td>\n",
       "      <td>0</td>\n",
       "      <td>0</td>\n",
       "    </tr>\n",
       "    <tr>\n",
       "      <th>4</th>\n",
       "      <td>35.0</td>\n",
       "      <td>1.0</td>\n",
       "      <td>0</td>\n",
       "      <td>1</td>\n",
       "      <td>0</td>\n",
       "      <td>0</td>\n",
       "      <td>0</td>\n",
       "      <td>0</td>\n",
       "      <td>0</td>\n",
       "      <td>0</td>\n",
       "      <td>0</td>\n",
       "      <td>0</td>\n",
       "      <td>0</td>\n",
       "      <td>0</td>\n",
       "      <td>0</td>\n",
       "      <td>0</td>\n",
       "      <td>0</td>\n",
       "      <td>0</td>\n",
       "      <td>0</td>\n",
       "      <td>0</td>\n",
       "      <td>0</td>\n",
       "      <td>0</td>\n",
       "      <td>0</td>\n",
       "      <td>0</td>\n",
       "      <td>0</td>\n",
       "      <td>...</td>\n",
       "      <td>0</td>\n",
       "      <td>0</td>\n",
       "      <td>0</td>\n",
       "      <td>0</td>\n",
       "      <td>0</td>\n",
       "      <td>0</td>\n",
       "      <td>0</td>\n",
       "      <td>0</td>\n",
       "      <td>0</td>\n",
       "      <td>0</td>\n",
       "      <td>0</td>\n",
       "      <td>0</td>\n",
       "      <td>0</td>\n",
       "      <td>0</td>\n",
       "      <td>0</td>\n",
       "      <td>0</td>\n",
       "      <td>0</td>\n",
       "      <td>0</td>\n",
       "      <td>0</td>\n",
       "      <td>0</td>\n",
       "      <td>1</td>\n",
       "      <td>0</td>\n",
       "      <td>0</td>\n",
       "      <td>0</td>\n",
       "      <td>0</td>\n",
       "    </tr>\n",
       "  </tbody>\n",
       "</table>\n",
       "<p>5 rows × 93 columns</p>\n",
       "</div>"
      ],
      "text/plain": [
       "   FieldGoalDistance  FieldGoalResult  HomeTeam_DEN  HomeTeam_BUF  \\\n",
       "0               25.0              1.0             1             0   \n",
       "1               30.0              1.0             1             0   \n",
       "2               48.0              1.0             0             1   \n",
       "3               33.0              1.0             0             1   \n",
       "4               35.0              1.0             0             1   \n",
       "\n",
       "   HomeTeam_PIT  HomeTeam_NO  HomeTeam_NYJ  HomeTeam_CAR  HomeTeam_CHI  \\\n",
       "0             0            0             0             0             0   \n",
       "1             0            0             0             0             0   \n",
       "2             0            0             0             0             0   \n",
       "3             0            0             0             0             0   \n",
       "4             0            0             0             0             0   \n",
       "\n",
       "   HomeTeam_CLE  HomeTeam_DET  HomeTeam_IND  HomeTeam_SF  HomeTeam_STL  \\\n",
       "0             0             0             0            0             0   \n",
       "1             0             0             0            0             0   \n",
       "2             0             0             0            0             0   \n",
       "3             0             0             0            0             0   \n",
       "4             0             0             0            0             0   \n",
       "\n",
       "   HomeTeam_DAL  HomeTeam_WAS  HomeTeam_SD  HomeTeam_NE  HomeTeam_ATL  \\\n",
       "0             0             0            0            0             0   \n",
       "1             0             0            0            0             0   \n",
       "2             0             0            0            0             0   \n",
       "3             0             0            0            0             0   \n",
       "4             0             0            0            0             0   \n",
       "\n",
       "   HomeTeam_PHI  HomeTeam_KC  HomeTeam_HOU  HomeTeam_GB  HomeTeam_BAL  \\\n",
       "0             0            0             0            0             0   \n",
       "1             0            0             0            0             0   \n",
       "2             0            0             0            0             0   \n",
       "3             0            0             0            0             0   \n",
       "4             0            0             0            0             0   \n",
       "\n",
       "   HomeTeam_TB      ...        KickerName_S.Graham  KickerName_C.Parkey  \\\n",
       "0            0      ...                          0                    0   \n",
       "1            0      ...                          0                    0   \n",
       "2            0      ...                          0                    0   \n",
       "3            0      ...                          0                    0   \n",
       "4            0      ...                          0                    0   \n",
       "\n",
       "   KickerName_C.Santos  KickerName_B.McManus  KickerName_C.Catanzaro  \\\n",
       "0                    0                     0                       0   \n",
       "1                    0                     0                       0   \n",
       "2                    0                     0                       0   \n",
       "3                    0                     0                       0   \n",
       "4                    0                     0                       0   \n",
       "\n",
       "   KickerName_P.Murray  KickerName_C.Barth  KickerName_T.Coons  \\\n",
       "0                    0                   0                   0   \n",
       "1                    0                   0                   0   \n",
       "2                    0                   0                   0   \n",
       "3                    0                   0                   0   \n",
       "4                    0                   0                   0   \n",
       "\n",
       "   KickerName_A.Franks  KickerName_J.Myers  KickerName_J.Lambo  \\\n",
       "0                    0                   0                   0   \n",
       "1                    0                   0                   0   \n",
       "2                    0                   0                   0   \n",
       "3                    0                   0                   0   \n",
       "4                    0                   0                   0   \n",
       "\n",
       "   KickerName_D.Hopkins  KickerName_C.Boswell  KickerName_R.Aguayo  \\\n",
       "0                     0                     0                    0   \n",
       "1                     0                     0                    0   \n",
       "2                     0                     0                    0   \n",
       "3                     0                     0                    0   \n",
       "4                     0                     0                    0   \n",
       "\n",
       "   KickerName_W.Lutz  KickerName_Z.Gonzalez  KickerName_A.Rosas  \\\n",
       "0                  0                      0                   0   \n",
       "1                  0                      0                   0   \n",
       "2                  0                      0                   0   \n",
       "3                  0                      0                   0   \n",
       "4                  0                      0                   0   \n",
       "\n",
       "   KickerName_K.Fairbairn  KickerName_J.Elliott  KickerName_H.Butker  \\\n",
       "0                       0                     0                    0   \n",
       "1                       0                     0                    0   \n",
       "2                       0                     0                    0   \n",
       "3                       0                     0                    0   \n",
       "4                       0                     0                    0   \n",
       "\n",
       "   Month_September  Month_October  Month_November  Month_December  \\\n",
       "0                1              0               0               0   \n",
       "1                1              0               0               0   \n",
       "2                1              0               0               0   \n",
       "3                1              0               0               0   \n",
       "4                1              0               0               0   \n",
       "\n",
       "   Month_January  \n",
       "0              0  \n",
       "1              0  \n",
       "2              0  \n",
       "3              0  \n",
       "4              0  \n",
       "\n",
       "[5 rows x 93 columns]"
      ]
     },
     "execution_count": 9,
     "metadata": {},
     "output_type": "execute_result"
    }
   ],
   "source": [
    "fg_df.head()"
   ]
  },
  {
   "cell_type": "markdown",
   "metadata": {},
   "source": [
    "### data cleaned, now ready to be modeled)\n",
    "\n",
    "xg_boost, random_forest, logistic_regression, gradient_boosting"
   ]
  },
  {
   "cell_type": "code",
   "execution_count": 11,
   "metadata": {},
   "outputs": [],
   "source": [
    "from sklearn.linear_model import LogisticRegression\n",
    "from sklearn.ensemble import RandomForestClassifier, GradientBoostingClassifier\n",
    "from xgboost import XGBClassifier"
   ]
  },
  {
   "cell_type": "code",
   "execution_count": 12,
   "metadata": {},
   "outputs": [],
   "source": [
    "from sklearn.metrics import log_loss\n",
    "from sklearn.model_selection import train_test_split"
   ]
  },
  {
   "cell_type": "code",
   "execution_count": 13,
   "metadata": {},
   "outputs": [],
   "source": [
    "y = fg_df['FieldGoalResult']\n",
    "X = fg_df.drop(axis=1, columns=['FieldGoalResult'])"
   ]
  },
  {
   "cell_type": "code",
   "execution_count": 14,
   "metadata": {},
   "outputs": [],
   "source": [
    "X_train, X_test, y_train, y_test = train_test_split(X,y)"
   ]
  },
  {
   "cell_type": "code",
   "execution_count": 16,
   "metadata": {},
   "outputs": [
    {
     "name": "stderr",
     "output_type": "stream",
     "text": [
      "[Parallel(n_jobs=1)]: Using backend SequentialBackend with 1 concurrent workers.\n"
     ]
    },
    {
     "name": "stdout",
     "output_type": "stream",
     "text": [
      "Ensemble Log Loss 0.377185680815104\n",
      "Gradient Boost Log Loss 0.3894393499899125\n",
      "Random Forest Log Loss 0.4032588973646582\n",
      "XGBoost Log Loss 0.3749042601745331\n",
      "Logistic Log Loss 0.3687018682298989\n"
     ]
    },
    {
     "name": "stderr",
     "output_type": "stream",
     "text": [
      "[Parallel(n_jobs=1)]: Done 300 out of 300 | elapsed:    0.3s finished\n",
      "/Users/david/anaconda3/lib/python3.6/site-packages/sklearn/linear_model/logistic.py:432: FutureWarning: Default solver will be changed to 'lbfgs' in 0.22. Specify a solver to silence this warning.\n",
      "  FutureWarning)\n",
      "[Parallel(n_jobs=1)]: Using backend SequentialBackend with 1 concurrent workers.\n",
      "[Parallel(n_jobs=1)]: Done 300 out of 300 | elapsed:    0.0s finished\n"
     ]
    }
   ],
   "source": [
    "xgboost_model = XGBClassifier(learning_rate = 0.01, max_depth = 3, n_estimators = 300, random_state=8)\n",
    "gradient_boost_model = GradientBoostingClassifier(learning_rate=0.01, max_depth=4, max_features='log2', min_samples_leaf=4, n_estimators=280, subsample=0.25, random_state=8)\n",
    "random_forest_model = RandomForestClassifier(n_estimators=300, max_depth=3, verbose=1, random_state=8)\n",
    "logistic_model = LogisticRegression()\n",
    "\n",
    "xgboost_model.fit(X_train, y_train)\n",
    "gradient_boost_model.fit(X_train, y_train)\n",
    "random_forest_model.fit(X_train, y_train)\n",
    "logistic_model.fit(X_train, y_train)\n",
    "\n",
    "p_random_forest = random_forest_model.predict_proba(X_test)\n",
    "p_gradient_boost =  gradient_boost_model.predict_proba(X_test)\n",
    "p_xgboost = xgboost_model.predict_proba(X_test)\n",
    "p_logistic = logistic_model.predict_proba(X_test)\n",
    "\n",
    "#need to concat these two arrays somehow...\n",
    "ensemble_p_0 = (p_random_forest[:,0] + p_gradient_boost[:,0] + p_xgboost[:,0])/3\n",
    "ensemble_p_1 = (p_random_forest[:,1] + p_gradient_boost[:,1] + p_xgboost[:,1] + p_logistic[:, 1] ) / 4\n",
    "# ensemble_p = np.concatenate(ensemble_p_0, ensemble_p_1, axis=0)\n",
    "\n",
    "random_forest_ll = log_loss(y_test, p_random_forest)\n",
    "gradient_boost_ll = log_loss(y_test, p_gradient_boost)\n",
    "xgboost_ll = log_loss(y_test, p_xgboost)\n",
    "logistic_ll = log_loss(y_test, p_logistic )\n",
    "ensemble_ll = log_loss(y_test, ensemble_p_1)\n",
    "                                     \n",
    "\n",
    "print(\"Ensemble Log Loss \" + str(ensemble_ll))\n",
    "print(\"Gradient Boost Log Loss \" + str(gradient_boost_ll))\n",
    "print(\"Random Forest Log Loss \" + str(random_forest_ll))\n",
    "print(\"XGBoost Log Loss \" + str(xgboost_ll))\n",
    "print(\"Logistic Log Loss \" + str(logistic_ll))"
   ]
  },
  {
   "cell_type": "markdown",
   "metadata": {},
   "source": [
    "### Visualize probabilities of kickers at difference ranges"
   ]
  },
  {
   "cell_type": "code",
   "execution_count": 22,
   "metadata": {},
   "outputs": [],
   "source": [
    "columns = fg_df.columns\n",
    "kick_distances = list(range(20, 65)) #45 total different yard spots\n"
   ]
  },
  {
   "cell_type": "code",
   "execution_count": 28,
   "metadata": {},
   "outputs": [
    {
     "data": {
      "text/plain": [
       "45"
      ]
     },
     "execution_count": 28,
     "metadata": {},
     "output_type": "execute_result"
    }
   ],
   "source": [
    "len(kick_distances) #need 45 total \"1s\" for home team and kicker, 0s for the rest"
   ]
  },
  {
   "cell_type": "code",
   "execution_count": 29,
   "metadata": {},
   "outputs": [],
   "source": [
    "from collections import OrderedDict"
   ]
  },
  {
   "cell_type": "markdown",
   "metadata": {},
   "source": [
    "### Create function to input hometeam, kickername, and month to run through models"
   ]
  },
  {
   "cell_type": "code",
   "execution_count": 44,
   "metadata": {},
   "outputs": [],
   "source": [
    "from clean import make_specific_frame"
   ]
  },
  {
   "cell_type": "code",
   "execution_count": 49,
   "metadata": {},
   "outputs": [],
   "source": [
    "bos_df = make_specific_frame('HomeTeam_SF', 'KickerName_C.Boswell', 'September' )"
   ]
  },
  {
   "cell_type": "code",
   "execution_count": 54,
   "metadata": {},
   "outputs": [
    {
     "data": {
      "text/html": [
       "<div>\n",
       "<style scoped>\n",
       "    .dataframe tbody tr th:only-of-type {\n",
       "        vertical-align: middle;\n",
       "    }\n",
       "\n",
       "    .dataframe tbody tr th {\n",
       "        vertical-align: top;\n",
       "    }\n",
       "\n",
       "    .dataframe thead th {\n",
       "        text-align: right;\n",
       "    }\n",
       "</style>\n",
       "<table border=\"1\" class=\"dataframe\">\n",
       "  <thead>\n",
       "    <tr style=\"text-align: right;\">\n",
       "      <th></th>\n",
       "      <th>FieldGoalDistance</th>\n",
       "      <th>HomeTeam_DEN</th>\n",
       "      <th>HomeTeam_BUF</th>\n",
       "      <th>HomeTeam_PIT</th>\n",
       "      <th>HomeTeam_NO</th>\n",
       "      <th>HomeTeam_NYJ</th>\n",
       "      <th>HomeTeam_CAR</th>\n",
       "      <th>HomeTeam_CHI</th>\n",
       "      <th>HomeTeam_CLE</th>\n",
       "      <th>HomeTeam_DET</th>\n",
       "      <th>HomeTeam_IND</th>\n",
       "      <th>HomeTeam_SF</th>\n",
       "      <th>HomeTeam_STL</th>\n",
       "      <th>HomeTeam_DAL</th>\n",
       "      <th>HomeTeam_WAS</th>\n",
       "      <th>HomeTeam_SD</th>\n",
       "      <th>HomeTeam_NE</th>\n",
       "      <th>HomeTeam_ATL</th>\n",
       "      <th>HomeTeam_PHI</th>\n",
       "      <th>HomeTeam_KC</th>\n",
       "      <th>HomeTeam_HOU</th>\n",
       "      <th>HomeTeam_GB</th>\n",
       "      <th>HomeTeam_BAL</th>\n",
       "      <th>HomeTeam_TB</th>\n",
       "      <th>HomeTeam_ARI</th>\n",
       "      <th>...</th>\n",
       "      <th>KickerName_S.Graham</th>\n",
       "      <th>KickerName_C.Parkey</th>\n",
       "      <th>KickerName_C.Santos</th>\n",
       "      <th>KickerName_B.McManus</th>\n",
       "      <th>KickerName_C.Catanzaro</th>\n",
       "      <th>KickerName_P.Murray</th>\n",
       "      <th>KickerName_C.Barth</th>\n",
       "      <th>KickerName_T.Coons</th>\n",
       "      <th>KickerName_A.Franks</th>\n",
       "      <th>KickerName_J.Myers</th>\n",
       "      <th>KickerName_J.Lambo</th>\n",
       "      <th>KickerName_D.Hopkins</th>\n",
       "      <th>KickerName_C.Boswell</th>\n",
       "      <th>KickerName_R.Aguayo</th>\n",
       "      <th>KickerName_W.Lutz</th>\n",
       "      <th>KickerName_Z.Gonzalez</th>\n",
       "      <th>KickerName_A.Rosas</th>\n",
       "      <th>KickerName_K.Fairbairn</th>\n",
       "      <th>KickerName_J.Elliott</th>\n",
       "      <th>KickerName_H.Butker</th>\n",
       "      <th>Month_September</th>\n",
       "      <th>Month_October</th>\n",
       "      <th>Month_November</th>\n",
       "      <th>Month_December</th>\n",
       "      <th>Month_January</th>\n",
       "    </tr>\n",
       "  </thead>\n",
       "  <tbody>\n",
       "    <tr>\n",
       "      <th>0</th>\n",
       "      <td>20</td>\n",
       "      <td>0</td>\n",
       "      <td>0</td>\n",
       "      <td>0</td>\n",
       "      <td>0</td>\n",
       "      <td>0</td>\n",
       "      <td>0</td>\n",
       "      <td>0</td>\n",
       "      <td>0</td>\n",
       "      <td>0</td>\n",
       "      <td>0</td>\n",
       "      <td>1</td>\n",
       "      <td>0</td>\n",
       "      <td>0</td>\n",
       "      <td>0</td>\n",
       "      <td>0</td>\n",
       "      <td>0</td>\n",
       "      <td>0</td>\n",
       "      <td>0</td>\n",
       "      <td>0</td>\n",
       "      <td>0</td>\n",
       "      <td>0</td>\n",
       "      <td>0</td>\n",
       "      <td>0</td>\n",
       "      <td>0</td>\n",
       "      <td>...</td>\n",
       "      <td>0</td>\n",
       "      <td>0</td>\n",
       "      <td>0</td>\n",
       "      <td>0</td>\n",
       "      <td>0</td>\n",
       "      <td>0</td>\n",
       "      <td>0</td>\n",
       "      <td>0</td>\n",
       "      <td>0</td>\n",
       "      <td>0</td>\n",
       "      <td>0</td>\n",
       "      <td>0</td>\n",
       "      <td>1</td>\n",
       "      <td>0</td>\n",
       "      <td>0</td>\n",
       "      <td>0</td>\n",
       "      <td>0</td>\n",
       "      <td>0</td>\n",
       "      <td>0</td>\n",
       "      <td>0</td>\n",
       "      <td>0</td>\n",
       "      <td>0</td>\n",
       "      <td>0</td>\n",
       "      <td>0</td>\n",
       "      <td>0</td>\n",
       "    </tr>\n",
       "    <tr>\n",
       "      <th>1</th>\n",
       "      <td>21</td>\n",
       "      <td>0</td>\n",
       "      <td>0</td>\n",
       "      <td>0</td>\n",
       "      <td>0</td>\n",
       "      <td>0</td>\n",
       "      <td>0</td>\n",
       "      <td>0</td>\n",
       "      <td>0</td>\n",
       "      <td>0</td>\n",
       "      <td>0</td>\n",
       "      <td>1</td>\n",
       "      <td>0</td>\n",
       "      <td>0</td>\n",
       "      <td>0</td>\n",
       "      <td>0</td>\n",
       "      <td>0</td>\n",
       "      <td>0</td>\n",
       "      <td>0</td>\n",
       "      <td>0</td>\n",
       "      <td>0</td>\n",
       "      <td>0</td>\n",
       "      <td>0</td>\n",
       "      <td>0</td>\n",
       "      <td>0</td>\n",
       "      <td>...</td>\n",
       "      <td>0</td>\n",
       "      <td>0</td>\n",
       "      <td>0</td>\n",
       "      <td>0</td>\n",
       "      <td>0</td>\n",
       "      <td>0</td>\n",
       "      <td>0</td>\n",
       "      <td>0</td>\n",
       "      <td>0</td>\n",
       "      <td>0</td>\n",
       "      <td>0</td>\n",
       "      <td>0</td>\n",
       "      <td>1</td>\n",
       "      <td>0</td>\n",
       "      <td>0</td>\n",
       "      <td>0</td>\n",
       "      <td>0</td>\n",
       "      <td>0</td>\n",
       "      <td>0</td>\n",
       "      <td>0</td>\n",
       "      <td>0</td>\n",
       "      <td>0</td>\n",
       "      <td>0</td>\n",
       "      <td>0</td>\n",
       "      <td>0</td>\n",
       "    </tr>\n",
       "    <tr>\n",
       "      <th>2</th>\n",
       "      <td>22</td>\n",
       "      <td>0</td>\n",
       "      <td>0</td>\n",
       "      <td>0</td>\n",
       "      <td>0</td>\n",
       "      <td>0</td>\n",
       "      <td>0</td>\n",
       "      <td>0</td>\n",
       "      <td>0</td>\n",
       "      <td>0</td>\n",
       "      <td>0</td>\n",
       "      <td>1</td>\n",
       "      <td>0</td>\n",
       "      <td>0</td>\n",
       "      <td>0</td>\n",
       "      <td>0</td>\n",
       "      <td>0</td>\n",
       "      <td>0</td>\n",
       "      <td>0</td>\n",
       "      <td>0</td>\n",
       "      <td>0</td>\n",
       "      <td>0</td>\n",
       "      <td>0</td>\n",
       "      <td>0</td>\n",
       "      <td>0</td>\n",
       "      <td>...</td>\n",
       "      <td>0</td>\n",
       "      <td>0</td>\n",
       "      <td>0</td>\n",
       "      <td>0</td>\n",
       "      <td>0</td>\n",
       "      <td>0</td>\n",
       "      <td>0</td>\n",
       "      <td>0</td>\n",
       "      <td>0</td>\n",
       "      <td>0</td>\n",
       "      <td>0</td>\n",
       "      <td>0</td>\n",
       "      <td>1</td>\n",
       "      <td>0</td>\n",
       "      <td>0</td>\n",
       "      <td>0</td>\n",
       "      <td>0</td>\n",
       "      <td>0</td>\n",
       "      <td>0</td>\n",
       "      <td>0</td>\n",
       "      <td>0</td>\n",
       "      <td>0</td>\n",
       "      <td>0</td>\n",
       "      <td>0</td>\n",
       "      <td>0</td>\n",
       "    </tr>\n",
       "    <tr>\n",
       "      <th>3</th>\n",
       "      <td>23</td>\n",
       "      <td>0</td>\n",
       "      <td>0</td>\n",
       "      <td>0</td>\n",
       "      <td>0</td>\n",
       "      <td>0</td>\n",
       "      <td>0</td>\n",
       "      <td>0</td>\n",
       "      <td>0</td>\n",
       "      <td>0</td>\n",
       "      <td>0</td>\n",
       "      <td>1</td>\n",
       "      <td>0</td>\n",
       "      <td>0</td>\n",
       "      <td>0</td>\n",
       "      <td>0</td>\n",
       "      <td>0</td>\n",
       "      <td>0</td>\n",
       "      <td>0</td>\n",
       "      <td>0</td>\n",
       "      <td>0</td>\n",
       "      <td>0</td>\n",
       "      <td>0</td>\n",
       "      <td>0</td>\n",
       "      <td>0</td>\n",
       "      <td>...</td>\n",
       "      <td>0</td>\n",
       "      <td>0</td>\n",
       "      <td>0</td>\n",
       "      <td>0</td>\n",
       "      <td>0</td>\n",
       "      <td>0</td>\n",
       "      <td>0</td>\n",
       "      <td>0</td>\n",
       "      <td>0</td>\n",
       "      <td>0</td>\n",
       "      <td>0</td>\n",
       "      <td>0</td>\n",
       "      <td>1</td>\n",
       "      <td>0</td>\n",
       "      <td>0</td>\n",
       "      <td>0</td>\n",
       "      <td>0</td>\n",
       "      <td>0</td>\n",
       "      <td>0</td>\n",
       "      <td>0</td>\n",
       "      <td>0</td>\n",
       "      <td>0</td>\n",
       "      <td>0</td>\n",
       "      <td>0</td>\n",
       "      <td>0</td>\n",
       "    </tr>\n",
       "    <tr>\n",
       "      <th>4</th>\n",
       "      <td>24</td>\n",
       "      <td>0</td>\n",
       "      <td>0</td>\n",
       "      <td>0</td>\n",
       "      <td>0</td>\n",
       "      <td>0</td>\n",
       "      <td>0</td>\n",
       "      <td>0</td>\n",
       "      <td>0</td>\n",
       "      <td>0</td>\n",
       "      <td>0</td>\n",
       "      <td>1</td>\n",
       "      <td>0</td>\n",
       "      <td>0</td>\n",
       "      <td>0</td>\n",
       "      <td>0</td>\n",
       "      <td>0</td>\n",
       "      <td>0</td>\n",
       "      <td>0</td>\n",
       "      <td>0</td>\n",
       "      <td>0</td>\n",
       "      <td>0</td>\n",
       "      <td>0</td>\n",
       "      <td>0</td>\n",
       "      <td>0</td>\n",
       "      <td>...</td>\n",
       "      <td>0</td>\n",
       "      <td>0</td>\n",
       "      <td>0</td>\n",
       "      <td>0</td>\n",
       "      <td>0</td>\n",
       "      <td>0</td>\n",
       "      <td>0</td>\n",
       "      <td>0</td>\n",
       "      <td>0</td>\n",
       "      <td>0</td>\n",
       "      <td>0</td>\n",
       "      <td>0</td>\n",
       "      <td>1</td>\n",
       "      <td>0</td>\n",
       "      <td>0</td>\n",
       "      <td>0</td>\n",
       "      <td>0</td>\n",
       "      <td>0</td>\n",
       "      <td>0</td>\n",
       "      <td>0</td>\n",
       "      <td>0</td>\n",
       "      <td>0</td>\n",
       "      <td>0</td>\n",
       "      <td>0</td>\n",
       "      <td>0</td>\n",
       "    </tr>\n",
       "  </tbody>\n",
       "</table>\n",
       "<p>5 rows × 92 columns</p>\n",
       "</div>"
      ],
      "text/plain": [
       "   FieldGoalDistance  HomeTeam_DEN  HomeTeam_BUF  HomeTeam_PIT  HomeTeam_NO  \\\n",
       "0                 20             0             0             0            0   \n",
       "1                 21             0             0             0            0   \n",
       "2                 22             0             0             0            0   \n",
       "3                 23             0             0             0            0   \n",
       "4                 24             0             0             0            0   \n",
       "\n",
       "   HomeTeam_NYJ  HomeTeam_CAR  HomeTeam_CHI  HomeTeam_CLE  HomeTeam_DET  \\\n",
       "0             0             0             0             0             0   \n",
       "1             0             0             0             0             0   \n",
       "2             0             0             0             0             0   \n",
       "3             0             0             0             0             0   \n",
       "4             0             0             0             0             0   \n",
       "\n",
       "   HomeTeam_IND  HomeTeam_SF  HomeTeam_STL  HomeTeam_DAL  HomeTeam_WAS  \\\n",
       "0             0            1             0             0             0   \n",
       "1             0            1             0             0             0   \n",
       "2             0            1             0             0             0   \n",
       "3             0            1             0             0             0   \n",
       "4             0            1             0             0             0   \n",
       "\n",
       "   HomeTeam_SD  HomeTeam_NE  HomeTeam_ATL  HomeTeam_PHI  HomeTeam_KC  \\\n",
       "0            0            0             0             0            0   \n",
       "1            0            0             0             0            0   \n",
       "2            0            0             0             0            0   \n",
       "3            0            0             0             0            0   \n",
       "4            0            0             0             0            0   \n",
       "\n",
       "   HomeTeam_HOU  HomeTeam_GB  HomeTeam_BAL  HomeTeam_TB  HomeTeam_ARI  \\\n",
       "0             0            0             0            0             0   \n",
       "1             0            0             0            0             0   \n",
       "2             0            0             0            0             0   \n",
       "3             0            0             0            0             0   \n",
       "4             0            0             0            0             0   \n",
       "\n",
       "       ...        KickerName_S.Graham  KickerName_C.Parkey  \\\n",
       "0      ...                          0                    0   \n",
       "1      ...                          0                    0   \n",
       "2      ...                          0                    0   \n",
       "3      ...                          0                    0   \n",
       "4      ...                          0                    0   \n",
       "\n",
       "   KickerName_C.Santos  KickerName_B.McManus  KickerName_C.Catanzaro  \\\n",
       "0                    0                     0                       0   \n",
       "1                    0                     0                       0   \n",
       "2                    0                     0                       0   \n",
       "3                    0                     0                       0   \n",
       "4                    0                     0                       0   \n",
       "\n",
       "   KickerName_P.Murray  KickerName_C.Barth  KickerName_T.Coons  \\\n",
       "0                    0                   0                   0   \n",
       "1                    0                   0                   0   \n",
       "2                    0                   0                   0   \n",
       "3                    0                   0                   0   \n",
       "4                    0                   0                   0   \n",
       "\n",
       "   KickerName_A.Franks  KickerName_J.Myers  KickerName_J.Lambo  \\\n",
       "0                    0                   0                   0   \n",
       "1                    0                   0                   0   \n",
       "2                    0                   0                   0   \n",
       "3                    0                   0                   0   \n",
       "4                    0                   0                   0   \n",
       "\n",
       "   KickerName_D.Hopkins  KickerName_C.Boswell  KickerName_R.Aguayo  \\\n",
       "0                     0                     1                    0   \n",
       "1                     0                     1                    0   \n",
       "2                     0                     1                    0   \n",
       "3                     0                     1                    0   \n",
       "4                     0                     1                    0   \n",
       "\n",
       "   KickerName_W.Lutz  KickerName_Z.Gonzalez  KickerName_A.Rosas  \\\n",
       "0                  0                      0                   0   \n",
       "1                  0                      0                   0   \n",
       "2                  0                      0                   0   \n",
       "3                  0                      0                   0   \n",
       "4                  0                      0                   0   \n",
       "\n",
       "   KickerName_K.Fairbairn  KickerName_J.Elliott  KickerName_H.Butker  \\\n",
       "0                       0                     0                    0   \n",
       "1                       0                     0                    0   \n",
       "2                       0                     0                    0   \n",
       "3                       0                     0                    0   \n",
       "4                       0                     0                    0   \n",
       "\n",
       "   Month_September  Month_October  Month_November  Month_December  \\\n",
       "0                0              0               0               0   \n",
       "1                0              0               0               0   \n",
       "2                0              0               0               0   \n",
       "3                0              0               0               0   \n",
       "4                0              0               0               0   \n",
       "\n",
       "   Month_January  \n",
       "0              0  \n",
       "1              0  \n",
       "2              0  \n",
       "3              0  \n",
       "4              0  \n",
       "\n",
       "[5 rows x 92 columns]"
      ]
     },
     "execution_count": 54,
     "metadata": {},
     "output_type": "execute_result"
    }
   ],
   "source": [
    "bos_df.head()"
   ]
  },
  {
   "cell_type": "code",
   "execution_count": 50,
   "metadata": {},
   "outputs": [
    {
     "name": "stderr",
     "output_type": "stream",
     "text": [
      "[Parallel(n_jobs=1)]: Using backend SequentialBackend with 1 concurrent workers.\n",
      "[Parallel(n_jobs=1)]: Done 300 out of 300 | elapsed:    0.3s finished\n"
     ]
    }
   ],
   "source": [
    "p_random_forest = random_forest_model.predict_proba(bos_df)\n",
    "p_gradient_boost =  gradient_boost_model.predict_proba(bos_df)\n",
    "p_xgboost = xgboost_model.predict_proba(bos_df)\n",
    "p_logistic = logistic_model.predict_proba(bos_df)"
   ]
  },
  {
   "cell_type": "markdown",
   "metadata": {},
   "source": [
    "### visualization"
   ]
  },
  {
   "cell_type": "code",
   "execution_count": 55,
   "metadata": {},
   "outputs": [
    {
     "data": {
      "text/plain": [
       "<matplotlib.collections.PathCollection at 0x1a1dfa1748>"
      ]
     },
     "execution_count": 55,
     "metadata": {},
     "output_type": "execute_result"
    },
    {
     "data": {
      "image/png": "[encoded data removed]",
      "text/plain": [
       "<Figure size 432x288 with 1 Axes>"
      ]
     },
     "metadata": {},
     "output_type": "display_data"
    }
   ],
   "source": [
    "plt.scatter(bos_df['FieldGoalDistance'], p_random_forest[:, 1])"
   ]
  },
  {
   "cell_type": "code",
   "execution_count": 65,
   "metadata": {},
   "outputs": [
    {
     "data": {
      "text/plain": [
       "<BarContainer object of 45 artists>"
      ]
     },
     "execution_count": 65,
     "metadata": {},
     "output_type": "execute_result"
    },
    {
     "data": {
      "image/png": "[encoded data removed]",
      "text/plain": [
       "<Figure size 432x288 with 1 Axes>"
      ]
     },
     "metadata": {},
     "output_type": "display_data"
    }
   ],
   "source": [
    "plt.bar(bos_df['FieldGoalDistance'], p_random_forest[:, 1])"
   ]
  },
  {
   "cell_type": "code",
   "execution_count": 66,
   "metadata": {},
   "outputs": [
    {
     "data": {
      "text/plain": [
       "<BarContainer object of 45 artists>"
      ]
     },
     "execution_count": 66,
     "metadata": {},
     "output_type": "execute_result"
    },
    {
     "data": {
      "image/png": "[encoded data removed]",
      "text/plain": [
       "<Figure size 432x288 with 1 Axes>"
      ]
     },
     "metadata": {},
     "output_type": "display_data"
    }
   ],
   "source": [
    "plt.bar(bos_df['FieldGoalDistance'], p_gradient_boost[:, 1])"
   ]
  },
  {
   "cell_type": "code",
   "execution_count": 67,
   "metadata": {},
   "outputs": [
    {
     "data": {
      "text/plain": [
       "<BarContainer object of 45 artists>"
      ]
     },
     "execution_count": 67,
     "metadata": {},
     "output_type": "execute_result"
    },
    {
     "data": {
      "image/png": "[encoded data removed]",
      "text/plain": [
       "<Figure size 432x288 with 1 Axes>"
      ]
     },
     "metadata": {},
     "output_type": "display_data"
    }
   ],
   "source": [
    "plt.bar(bos_df['FieldGoalDistance'], p_xgboost[:, 1])"
   ]
  },
  {
   "cell_type": "code",
   "execution_count": 68,
   "metadata": {},
   "outputs": [
    {
     "data": {
      "text/plain": [
       "<BarContainer object of 45 artists>"
      ]
     },
     "execution_count": 68,
     "metadata": {},
     "output_type": "execute_result"
    },
    {
     "data": {
      "image/png": "[encoded data removed]",
      "text/plain": [
       "<Figure size 432x288 with 1 Axes>"
      ]
     },
     "metadata": {},
     "output_type": "display_data"
    }
   ],
   "source": [
    "plt.bar(bos_df['FieldGoalDistance'], p_logistic[:, 1])"
   ]
  },
  {
   "cell_type": "code",
   "execution_count": 69,
   "metadata": {},
   "outputs": [],
   "source": [
    "import pickle\n",
    "\n",
    "log_pkl_filename = 'log.pkl'\n",
    "log_pkl = open(log_pkl_filename, 'wb')\n",
    "pickle.dump(logistic_model, log_pkl)\n",
    "log_pkl.close()"
   ]
  },
  {
   "cell_type": "markdown",
   "metadata": {},
   "source": [
    "### created one function where you input stadium, kickername, month - returns visual"
   ]
  },
  {
   "cell_type": "code",
   "execution_count": 72,
   "metadata": {},
   "outputs": [],
   "source": [
    "from clean import make_kicker_prob"
   ]
  },
  {
   "cell_type": "code",
   "execution_count": 83,
   "metadata": {},
   "outputs": [
    {
     "data": {
      "image/png": "[encoded data removed]",
      "text/plain": [
       "<Figure size 432x288 with 1 Axes>"
      ]
     },
     "metadata": {},
     "output_type": "display_data"
    }
   ],
   "source": [
    "make_kicker_prob('HomeTeam_SEA', 'KickerName_S.Haushka', 'September' )"
   ]
  },
  {
   "cell_type": "code",
   "execution_count": 84,
   "metadata": {},
   "outputs": [
    {
     "data": {
      "image/png": "[encoded data removed]",
      "text/plain": [
       "<Figure size 432x288 with 1 Axes>"
      ]
     },
     "metadata": {},
     "output_type": "display_data"
    }
   ],
   "source": [
    "make_kicker_prob('HomeTeam_SEA', 'KickerName_D.Bailey', 'September' )"
   ]
  },
  {
   "cell_type": "markdown",
   "metadata": {},
   "source": [
    "# Heat Map Kicker Comparison"
   ]
  },
  {
   "cell_type": "code",
   "execution_count": 86,
   "metadata": {},
   "outputs": [],
   "source": [
    "from clean import get_probs"
   ]
  },
  {
   "cell_type": "code",
   "execution_count": 89,
   "metadata": {},
   "outputs": [],
   "source": [
    "d_bailey = get_probs('HomeTeam_SEA', 'KickerName_D.Bailey', 'September')[:, 1]\n",
    "s_haushka = get_probs('HomeTeam_SEA', 'KickerName_S.Haushka', 'September')[:, 1]\n",
    "s_janikowski = get_probs('HomeTeam_SEA', 'KickerName_S.Janikowski', 'September')[:, 1]\n",
    "h_butker= get_probs('HomeTeam_SEA', 'KickerName_H.Butker', 'September')[:, 1]"
   ]
  },
  {
   "cell_type": "code",
   "execution_count": 90,
   "metadata": {},
   "outputs": [
    {
     "data": {
      "text/html": [
       "<iframe id=\"igraph\" scrolling=\"no\" style=\"border:none;\" seamless=\"seamless\" src=\"https://plot.ly/~davidlee327/10.embed\" height=\"525px\" width=\"100%\"></iframe>"
      ],
      "text/plain": [
       "<plotly.tools.PlotlyDisplay object>"
      ]
     },
     "execution_count": 90,
     "metadata": {},
     "output_type": "execute_result"
    }
   ],
   "source": [
    "import plotly.plotly as py\n",
    "import plotly.graph_objs as go\n",
    "\n",
    "trace = go.Heatmap(z=[d_bailey, s_haushka, s_janikowski, h_butker],\n",
    "                   x=list(range(20, 65)),\n",
    "                   y=['D. Bailey', 'S.Haushka', 'S.Janikowski', 'H.Butker'])\n",
    "data=[trace]\n",
    "py.iplot(data, filename='labelled-heatmap')"
   ]
  },
  {
   "cell_type": "code",
   "execution_count": null,
   "metadata": {},
   "outputs": [],
   "source": []
  },
  {
   "cell_type": "code",
   "execution_count": null,
   "metadata": {},
   "outputs": [],
   "source": []
  },
  {
   "cell_type": "code",
   "execution_count": null,
   "metadata": {},
   "outputs": [],
   "source": []
  }
 ],
 "metadata": {
  "kernelspec": {
   "display_name": "Python 3",
   "language": "python",
   "name": "python3"
  },
  "language_info": {
   "codemirror_mode": {
    "name": "ipython",
    "version": 3
   },
   "file_extension": ".py",
   "mimetype": "text/x-python",
   "name": "python",
   "nbconvert_exporter": "python",
   "pygments_lexer": "ipython3",
   "version": "3.6.6"
  }
 },
 "nbformat": 4,
 "nbformat_minor": 2
}
