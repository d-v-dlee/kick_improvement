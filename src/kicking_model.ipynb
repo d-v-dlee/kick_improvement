{
 "cells": [
  {
   "cell_type": "code",
   "execution_count": 46,
   "metadata": {},
   "outputs": [
    {
     "name": "stderr",
     "output_type": "stream",
     "text": [
      "[autoreload of sklearn.externals.six failed: Traceback (most recent call last):\n",
      "  File \"/Users/david/anaconda3/lib/python3.6/site-packages/IPython/extensions/autoreload.py\", line 245, in check\n",
      "    superreload(m, reload, self.old_objects)\n",
      "  File \"/Users/david/anaconda3/lib/python3.6/site-packages/IPython/extensions/autoreload.py\", line 384, in superreload\n",
      "    update_generic(old_obj, new_obj)\n",
      "  File \"/Users/david/anaconda3/lib/python3.6/site-packages/IPython/extensions/autoreload.py\", line 323, in update_generic\n",
      "    update(a, b)\n",
      "  File \"/Users/david/anaconda3/lib/python3.6/site-packages/IPython/extensions/autoreload.py\", line 275, in update_class\n",
      "    old_obj = getattr(old, key)\n",
      "  File \"/Users/david/anaconda3/lib/python3.6/site-packages/sklearn/externals/six.py\", line 87, in __get__\n",
      "    setattr(obj, self.name, result)\n",
      "AttributeError: 'NoneType' object has no attribute 'cStringIO'\n",
      "]\n",
      "[autoreload of sklearn.utils failed: Traceback (most recent call last):\n",
      "  File \"/Users/david/anaconda3/lib/python3.6/site-packages/IPython/extensions/autoreload.py\", line 245, in check\n",
      "    superreload(m, reload, self.old_objects)\n",
      "  File \"/Users/david/anaconda3/lib/python3.6/site-packages/IPython/extensions/autoreload.py\", line 368, in superreload\n",
      "    module = reload(module)\n",
      "  File \"/Users/david/anaconda3/lib/python3.6/imp.py\", line 315, in reload\n",
      "    return importlib.reload(module)\n",
      "  File \"/Users/david/anaconda3/lib/python3.6/importlib/__init__.py\", line 166, in reload\n",
      "    _bootstrap._exec(spec, module)\n",
      "  File \"<frozen importlib._bootstrap>\", line 618, in _exec\n",
      "  File \"<frozen importlib._bootstrap_external>\", line 678, in exec_module\n",
      "  File \"<frozen importlib._bootstrap>\", line 219, in _call_with_frames_removed\n",
      "  File \"/Users/david/anaconda3/lib/python3.6/site-packages/sklearn/utils/__init__.py\", line 23, in <module>\n",
      "    from ..utils.fixes import _Sequence as Sequence\n",
      "ImportError: cannot import name '_Sequence'\n",
      "]\n",
      "[autoreload of sklearn.externals.joblib failed: Traceback (most recent call last):\n",
      "  File \"/Users/david/anaconda3/lib/python3.6/site-packages/IPython/extensions/autoreload.py\", line 245, in check\n",
      "    superreload(m, reload, self.old_objects)\n",
      "  File \"/Users/david/anaconda3/lib/python3.6/site-packages/IPython/extensions/autoreload.py\", line 368, in superreload\n",
      "    module = reload(module)\n",
      "  File \"/Users/david/anaconda3/lib/python3.6/imp.py\", line 315, in reload\n",
      "    return importlib.reload(module)\n",
      "  File \"/Users/david/anaconda3/lib/python3.6/importlib/__init__.py\", line 166, in reload\n",
      "    _bootstrap._exec(spec, module)\n",
      "  File \"<frozen importlib._bootstrap>\", line 618, in _exec\n",
      "  File \"<frozen importlib._bootstrap_external>\", line 678, in exec_module\n",
      "  File \"<frozen importlib._bootstrap>\", line 219, in _call_with_frames_removed\n",
      "  File \"/Users/david/anaconda3/lib/python3.6/site-packages/sklearn/externals/joblib/__init__.py\", line 112, in <module>\n",
      "    from .memory import Memory, MemorizedResult, register_store_backend\n",
      "ImportError: cannot import name 'register_store_backend'\n",
      "]\n",
      "[autoreload of sklearn.externals.joblib.parallel failed: Traceback (most recent call last):\n",
      "  File \"/Users/david/anaconda3/lib/python3.6/site-packages/IPython/extensions/autoreload.py\", line 245, in check\n",
      "    superreload(m, reload, self.old_objects)\n",
      "  File \"/Users/david/anaconda3/lib/python3.6/site-packages/IPython/extensions/autoreload.py\", line 368, in superreload\n",
      "    module = reload(module)\n",
      "  File \"/Users/david/anaconda3/lib/python3.6/imp.py\", line 315, in reload\n",
      "    return importlib.reload(module)\n",
      "  File \"/Users/david/anaconda3/lib/python3.6/importlib/__init__.py\", line 166, in reload\n",
      "    _bootstrap._exec(spec, module)\n",
      "  File \"<frozen importlib._bootstrap>\", line 618, in _exec\n",
      "  File \"<frozen importlib._bootstrap_external>\", line 678, in exec_module\n",
      "  File \"<frozen importlib._bootstrap>\", line 219, in _call_with_frames_removed\n",
      "  File \"/Users/david/anaconda3/lib/python3.6/site-packages/sklearn/externals/joblib/parallel.py\", line 28, in <module>\n",
      "    from ._parallel_backends import (FallbackToBackend, MultiprocessingBackend,\n",
      "ImportError: cannot import name 'LokyBackend'\n",
      "]\n",
      "[autoreload of sklearn.externals.joblib._parallel_backends failed: Traceback (most recent call last):\n",
      "  File \"/Users/david/anaconda3/lib/python3.6/site-packages/IPython/extensions/autoreload.py\", line 245, in check\n",
      "    superreload(m, reload, self.old_objects)\n",
      "  File \"/Users/david/anaconda3/lib/python3.6/site-packages/IPython/extensions/autoreload.py\", line 368, in superreload\n",
      "    module = reload(module)\n",
      "  File \"/Users/david/anaconda3/lib/python3.6/imp.py\", line 315, in reload\n",
      "    return importlib.reload(module)\n",
      "  File \"/Users/david/anaconda3/lib/python3.6/importlib/__init__.py\", line 166, in reload\n",
      "    _bootstrap._exec(spec, module)\n",
      "  File \"<frozen importlib._bootstrap>\", line 618, in _exec\n",
      "  File \"<frozen importlib._bootstrap_external>\", line 678, in exec_module\n",
      "  File \"<frozen importlib._bootstrap>\", line 219, in _call_with_frames_removed\n",
      "  File \"/Users/david/anaconda3/lib/python3.6/site-packages/sklearn/externals/joblib/_parallel_backends.py\", line 20, in <module>\n",
      "    from .pool import MemmappingPool\n",
      "ImportError: cannot import name 'MemmappingPool'\n",
      "]\n",
      "[autoreload of sklearn.preprocessing failed: Traceback (most recent call last):\n",
      "  File \"/Users/david/anaconda3/lib/python3.6/site-packages/IPython/extensions/autoreload.py\", line 245, in check\n",
      "    superreload(m, reload, self.old_objects)\n",
      "  File \"/Users/david/anaconda3/lib/python3.6/site-packages/IPython/extensions/autoreload.py\", line 368, in superreload\n",
      "    module = reload(module)\n",
      "  File \"/Users/david/anaconda3/lib/python3.6/imp.py\", line 315, in reload\n",
      "    return importlib.reload(module)\n",
      "  File \"/Users/david/anaconda3/lib/python3.6/importlib/__init__.py\", line 166, in reload\n",
      "    _bootstrap._exec(spec, module)\n",
      "  File \"<frozen importlib._bootstrap>\", line 618, in _exec\n",
      "  File \"<frozen importlib._bootstrap_external>\", line 678, in exec_module\n",
      "  File \"<frozen importlib._bootstrap>\", line 219, in _call_with_frames_removed\n",
      "  File \"/Users/david/anaconda3/lib/python3.6/site-packages/sklearn/preprocessing/__init__.py\", line 24, in <module>\n",
      "    from .data import power_transform\n",
      "ImportError: cannot import name 'power_transform'\n",
      "]\n",
      "[autoreload of sklearn.preprocessing._function_transformer failed: Traceback (most recent call last):\n",
      "  File \"/Users/david/anaconda3/lib/python3.6/site-packages/IPython/extensions/autoreload.py\", line 245, in check\n",
      "    superreload(m, reload, self.old_objects)\n",
      "  File \"/Users/david/anaconda3/lib/python3.6/site-packages/IPython/extensions/autoreload.py\", line 368, in superreload\n",
      "    module = reload(module)\n",
      "  File \"/Users/david/anaconda3/lib/python3.6/imp.py\", line 315, in reload\n",
      "    return importlib.reload(module)\n",
      "  File \"/Users/david/anaconda3/lib/python3.6/importlib/__init__.py\", line 166, in reload\n",
      "    _bootstrap._exec(spec, module)\n",
      "  File \"<frozen importlib._bootstrap>\", line 618, in _exec\n",
      "  File \"<frozen importlib._bootstrap_external>\", line 678, in exec_module\n",
      "  File \"<frozen importlib._bootstrap>\", line 219, in _call_with_frames_removed\n",
      "  File \"/Users/david/anaconda3/lib/python3.6/site-packages/sklearn/preprocessing/_function_transformer.py\", line 5, in <module>\n",
      "    from ..utils.testing import assert_allclose_dense_sparse\n",
      "  File \"/Users/david/anaconda3/lib/python3.6/site-packages/sklearn/utils/testing.py\", line 49, in <module>\n",
      "    from sklearn.utils import deprecated, IS_PYPY, _IS_32BIT\n",
      "ImportError: cannot import name 'IS_PYPY'\n",
      "]\n",
      "[autoreload of sklearn.preprocessing.data failed: Traceback (most recent call last):\n",
      "  File \"/Users/david/anaconda3/lib/python3.6/site-packages/IPython/extensions/autoreload.py\", line 245, in check\n",
      "    superreload(m, reload, self.old_objects)\n",
      "  File \"/Users/david/anaconda3/lib/python3.6/site-packages/IPython/extensions/autoreload.py\", line 368, in superreload\n",
      "    module = reload(module)\n",
      "  File \"/Users/david/anaconda3/lib/python3.6/imp.py\", line 315, in reload\n",
      "    return importlib.reload(module)\n",
      "  File \"/Users/david/anaconda3/lib/python3.6/importlib/__init__.py\", line 166, in reload\n",
      "    _bootstrap._exec(spec, module)\n",
      "  File \"<frozen importlib._bootstrap>\", line 618, in _exec\n",
      "  File \"<frozen importlib._bootstrap_external>\", line 678, in exec_module\n",
      "  File \"<frozen importlib._bootstrap>\", line 219, in _call_with_frames_removed\n",
      "  File \"/Users/david/anaconda3/lib/python3.6/site-packages/sklearn/preprocessing/data.py\", line 37, in <module>\n",
      "    from ._encoders import OneHotEncoder\n",
      "  File \"/Users/david/anaconda3/lib/python3.6/site-packages/sklearn/preprocessing/_encoders.py\", line 22, in <module>\n",
      "    from .label import _encode, _encode_check_unknown\n",
      "ImportError: cannot import name '_encode'\n",
      "]\n",
      "[autoreload of sklearn.preprocessing.imputation failed: Traceback (most recent call last):\n",
      "  File \"/Users/david/anaconda3/lib/python3.6/site-packages/IPython/extensions/autoreload.py\", line 245, in check\n",
      "    superreload(m, reload, self.old_objects)\n",
      "  File \"/Users/david/anaconda3/lib/python3.6/site-packages/IPython/extensions/autoreload.py\", line 384, in superreload\n",
      "    update_generic(old_obj, new_obj)\n",
      "  File \"/Users/david/anaconda3/lib/python3.6/site-packages/IPython/extensions/autoreload.py\", line 323, in update_generic\n",
      "    update(a, b)\n",
      "  File \"/Users/david/anaconda3/lib/python3.6/site-packages/IPython/extensions/autoreload.py\", line 288, in update_class\n",
      "    if update_generic(old_obj, new_obj): continue\n",
      "  File \"/Users/david/anaconda3/lib/python3.6/site-packages/IPython/extensions/autoreload.py\", line 323, in update_generic\n",
      "    update(a, b)\n",
      "  File \"/Users/david/anaconda3/lib/python3.6/site-packages/IPython/extensions/autoreload.py\", line 266, in update_function\n",
      "    setattr(old, name, getattr(new, name))\n",
      "ValueError: __init__() requires a code object with 0 free vars, not 2\n",
      "]\n",
      "[autoreload of sklearn.metrics failed: Traceback (most recent call last):\n",
      "  File \"/Users/david/anaconda3/lib/python3.6/site-packages/IPython/extensions/autoreload.py\", line 245, in check\n",
      "    superreload(m, reload, self.old_objects)\n",
      "  File \"/Users/david/anaconda3/lib/python3.6/site-packages/IPython/extensions/autoreload.py\", line 368, in superreload\n",
      "    module = reload(module)\n",
      "  File \"/Users/david/anaconda3/lib/python3.6/imp.py\", line 315, in reload\n",
      "    return importlib.reload(module)\n",
      "  File \"/Users/david/anaconda3/lib/python3.6/importlib/__init__.py\", line 166, in reload\n",
      "    _bootstrap._exec(spec, module)\n",
      "  File \"<frozen importlib._bootstrap>\", line 618, in _exec\n",
      "  File \"<frozen importlib._bootstrap_external>\", line 678, in exec_module\n",
      "  File \"<frozen importlib._bootstrap>\", line 219, in _call_with_frames_removed\n",
      "  File \"/Users/david/anaconda3/lib/python3.6/site-packages/sklearn/metrics/__init__.py\", line 17, in <module>\n",
      "    from .classification import balanced_accuracy_score\n",
      "ImportError: cannot import name 'balanced_accuracy_score'\n",
      "]\n",
      "[autoreload of sklearn.metrics.cluster failed: Traceback (most recent call last):\n",
      "  File \"/Users/david/anaconda3/lib/python3.6/site-packages/IPython/extensions/autoreload.py\", line 245, in check\n",
      "    superreload(m, reload, self.old_objects)\n",
      "  File \"/Users/david/anaconda3/lib/python3.6/site-packages/IPython/extensions/autoreload.py\", line 368, in superreload\n",
      "    module = reload(module)\n",
      "  File \"/Users/david/anaconda3/lib/python3.6/imp.py\", line 315, in reload\n",
      "    return importlib.reload(module)\n",
      "  File \"/Users/david/anaconda3/lib/python3.6/importlib/__init__.py\", line 166, in reload\n",
      "    _bootstrap._exec(spec, module)\n",
      "  File \"<frozen importlib._bootstrap>\", line 618, in _exec\n",
      "  File \"<frozen importlib._bootstrap_external>\", line 678, in exec_module\n",
      "  File \"<frozen importlib._bootstrap>\", line 219, in _call_with_frames_removed\n",
      "  File \"/Users/david/anaconda3/lib/python3.6/site-packages/sklearn/metrics/cluster/__init__.py\", line 23, in <module>\n",
      "    from .unsupervised import davies_bouldin_score\n",
      "ImportError: cannot import name 'davies_bouldin_score'\n",
      "]\n",
      "[autoreload of sklearn.metrics.cluster.unsupervised failed: Traceback (most recent call last):\n",
      "  File \"/Users/david/anaconda3/lib/python3.6/site-packages/IPython/extensions/autoreload.py\", line 245, in check\n",
      "    superreload(m, reload, self.old_objects)\n",
      "  File \"/Users/david/anaconda3/lib/python3.6/site-packages/IPython/extensions/autoreload.py\", line 368, in superreload\n",
      "    module = reload(module)\n",
      "  File \"/Users/david/anaconda3/lib/python3.6/imp.py\", line 315, in reload\n",
      "    return importlib.reload(module)\n",
      "  File \"/Users/david/anaconda3/lib/python3.6/importlib/__init__.py\", line 166, in reload\n",
      "    _bootstrap._exec(spec, module)\n",
      "  File \"<frozen importlib._bootstrap>\", line 618, in _exec\n",
      "  File \"<frozen importlib._bootstrap_external>\", line 678, in exec_module\n",
      "  File \"<frozen importlib._bootstrap>\", line 219, in _call_with_frames_removed\n",
      "  File \"/Users/david/anaconda3/lib/python3.6/site-packages/sklearn/metrics/cluster/unsupervised.py\", line 17, in <module>\n",
      "    from ..pairwise import pairwise_distances_chunked\n",
      "ImportError: cannot import name 'pairwise_distances_chunked'\n",
      "]\n",
      "[autoreload of sklearn.metrics.pairwise failed: Traceback (most recent call last):\n",
      "  File \"/Users/david/anaconda3/lib/python3.6/site-packages/IPython/extensions/autoreload.py\", line 245, in check\n",
      "    superreload(m, reload, self.old_objects)\n",
      "  File \"/Users/david/anaconda3/lib/python3.6/site-packages/IPython/extensions/autoreload.py\", line 368, in superreload\n",
      "    module = reload(module)\n",
      "  File \"/Users/david/anaconda3/lib/python3.6/imp.py\", line 315, in reload\n",
      "    return importlib.reload(module)\n",
      "  File \"/Users/david/anaconda3/lib/python3.6/importlib/__init__.py\", line 166, in reload\n",
      "    _bootstrap._exec(spec, module)\n",
      "  File \"<frozen importlib._bootstrap>\", line 618, in _exec\n",
      "  File \"<frozen importlib._bootstrap_external>\", line 678, in exec_module\n",
      "  File \"<frozen importlib._bootstrap>\", line 219, in _call_with_frames_removed\n",
      "  File \"/Users/david/anaconda3/lib/python3.6/site-packages/sklearn/metrics/pairwise.py\", line 24, in <module>\n",
      "    from ..utils import gen_batches, get_chunk_n_rows\n",
      "ImportError: cannot import name 'get_chunk_n_rows'\n",
      "]\n",
      "[autoreload of sklearn.metrics.scorer failed: Traceback (most recent call last):\n",
      "  File \"/Users/david/anaconda3/lib/python3.6/site-packages/IPython/extensions/autoreload.py\", line 245, in check\n",
      "    superreload(m, reload, self.old_objects)\n",
      "  File \"/Users/david/anaconda3/lib/python3.6/site-packages/IPython/extensions/autoreload.py\", line 368, in superreload\n",
      "    module = reload(module)\n",
      "  File \"/Users/david/anaconda3/lib/python3.6/imp.py\", line 315, in reload\n",
      "    return importlib.reload(module)\n",
      "  File \"/Users/david/anaconda3/lib/python3.6/importlib/__init__.py\", line 166, in reload\n",
      "    _bootstrap._exec(spec, module)\n",
      "  File \"<frozen importlib._bootstrap>\", line 618, in _exec\n",
      "  File \"<frozen importlib._bootstrap_external>\", line 678, in exec_module\n",
      "  File \"<frozen importlib._bootstrap>\", line 219, in _call_with_frames_removed\n",
      "  File \"/Users/david/anaconda3/lib/python3.6/site-packages/sklearn/metrics/scorer.py\", line 25, in <module>\n",
      "    from . import (r2_score, median_absolute_error, mean_absolute_error,\n",
      "ImportError: cannot import name 'balanced_accuracy_score'\n",
      "]\n",
      "[autoreload of sklearn.neighbors.base failed: Traceback (most recent call last):\n",
      "  File \"/Users/david/anaconda3/lib/python3.6/site-packages/IPython/extensions/autoreload.py\", line 245, in check\n",
      "    superreload(m, reload, self.old_objects)\n",
      "  File \"/Users/david/anaconda3/lib/python3.6/site-packages/IPython/extensions/autoreload.py\", line 368, in superreload\n",
      "    module = reload(module)\n",
      "  File \"/Users/david/anaconda3/lib/python3.6/imp.py\", line 315, in reload\n",
      "    return importlib.reload(module)\n",
      "  File \"/Users/david/anaconda3/lib/python3.6/importlib/__init__.py\", line 166, in reload\n",
      "    _bootstrap._exec(spec, module)\n",
      "  File \"<frozen importlib._bootstrap>\", line 618, in _exec\n",
      "  File \"<frozen importlib._bootstrap_external>\", line 678, in exec_module\n",
      "  File \"<frozen importlib._bootstrap>\", line 219, in _call_with_frames_removed\n",
      "  File \"/Users/david/anaconda3/lib/python3.6/site-packages/sklearn/neighbors/base.py\", line 21, in <module>\n",
      "    from ..metrics import pairwise_distances_chunked\n",
      "ImportError: cannot import name 'pairwise_distances_chunked'\n",
      "]\n",
      "[autoreload of sklearn.neighbors.unsupervised failed: Traceback (most recent call last):\n",
      "  File \"/Users/david/anaconda3/lib/python3.6/site-packages/IPython/extensions/autoreload.py\", line 245, in check\n",
      "    superreload(m, reload, self.old_objects)\n",
      "  File \"/Users/david/anaconda3/lib/python3.6/site-packages/IPython/extensions/autoreload.py\", line 384, in superreload\n",
      "    update_generic(old_obj, new_obj)\n",
      "  File \"/Users/david/anaconda3/lib/python3.6/site-packages/IPython/extensions/autoreload.py\", line 323, in update_generic\n",
      "    update(a, b)\n",
      "  File \"/Users/david/anaconda3/lib/python3.6/site-packages/IPython/extensions/autoreload.py\", line 288, in update_class\n",
      "    if update_generic(old_obj, new_obj): continue\n",
      "  File \"/Users/david/anaconda3/lib/python3.6/site-packages/IPython/extensions/autoreload.py\", line 323, in update_generic\n",
      "    update(a, b)\n",
      "  File \"/Users/david/anaconda3/lib/python3.6/site-packages/IPython/extensions/autoreload.py\", line 266, in update_function\n",
      "    setattr(old, name, getattr(new, name))\n",
      "ValueError: __init__() requires a code object with 0 free vars, not 1\n",
      "]\n",
      "[autoreload of sklearn.neighbors.classification failed: Traceback (most recent call last):\n",
      "  File \"/Users/david/anaconda3/lib/python3.6/site-packages/IPython/extensions/autoreload.py\", line 245, in check\n",
      "    superreload(m, reload, self.old_objects)\n",
      "  File \"/Users/david/anaconda3/lib/python3.6/site-packages/IPython/extensions/autoreload.py\", line 384, in superreload\n",
      "    update_generic(old_obj, new_obj)\n",
      "  File \"/Users/david/anaconda3/lib/python3.6/site-packages/IPython/extensions/autoreload.py\", line 323, in update_generic\n",
      "    update(a, b)\n",
      "  File \"/Users/david/anaconda3/lib/python3.6/site-packages/IPython/extensions/autoreload.py\", line 288, in update_class\n",
      "    if update_generic(old_obj, new_obj): continue\n",
      "  File \"/Users/david/anaconda3/lib/python3.6/site-packages/IPython/extensions/autoreload.py\", line 323, in update_generic\n",
      "    update(a, b)\n",
      "  File \"/Users/david/anaconda3/lib/python3.6/site-packages/IPython/extensions/autoreload.py\", line 266, in update_function\n",
      "    setattr(old, name, getattr(new, name))\n",
      "ValueError: __init__() requires a code object with 0 free vars, not 1\n",
      "]\n",
      "[autoreload of sklearn.neighbors.regression failed: Traceback (most recent call last):\n",
      "  File \"/Users/david/anaconda3/lib/python3.6/site-packages/IPython/extensions/autoreload.py\", line 245, in check\n",
      "    superreload(m, reload, self.old_objects)\n",
      "  File \"/Users/david/anaconda3/lib/python3.6/site-packages/IPython/extensions/autoreload.py\", line 384, in superreload\n",
      "    update_generic(old_obj, new_obj)\n",
      "  File \"/Users/david/anaconda3/lib/python3.6/site-packages/IPython/extensions/autoreload.py\", line 323, in update_generic\n",
      "    update(a, b)\n",
      "  File \"/Users/david/anaconda3/lib/python3.6/site-packages/IPython/extensions/autoreload.py\", line 288, in update_class\n",
      "    if update_generic(old_obj, new_obj): continue\n",
      "  File \"/Users/david/anaconda3/lib/python3.6/site-packages/IPython/extensions/autoreload.py\", line 323, in update_generic\n",
      "    update(a, b)\n",
      "  File \"/Users/david/anaconda3/lib/python3.6/site-packages/IPython/extensions/autoreload.py\", line 266, in update_function\n",
      "    setattr(old, name, getattr(new, name))\n",
      "ValueError: __init__() requires a code object with 0 free vars, not 1\n",
      "]\n",
      "[autoreload of sklearn.neighbors.lof failed: Traceback (most recent call last):\n",
      "  File \"/Users/david/anaconda3/lib/python3.6/site-packages/IPython/extensions/autoreload.py\", line 245, in check\n",
      "    superreload(m, reload, self.old_objects)\n",
      "  File \"/Users/david/anaconda3/lib/python3.6/site-packages/IPython/extensions/autoreload.py\", line 384, in superreload\n",
      "    update_generic(old_obj, new_obj)\n",
      "  File \"/Users/david/anaconda3/lib/python3.6/site-packages/IPython/extensions/autoreload.py\", line 323, in update_generic\n",
      "    update(a, b)\n",
      "  File \"/Users/david/anaconda3/lib/python3.6/site-packages/IPython/extensions/autoreload.py\", line 288, in update_class\n",
      "    if update_generic(old_obj, new_obj): continue\n",
      "  File \"/Users/david/anaconda3/lib/python3.6/site-packages/IPython/extensions/autoreload.py\", line 323, in update_generic\n",
      "    update(a, b)\n",
      "  File \"/Users/david/anaconda3/lib/python3.6/site-packages/IPython/extensions/autoreload.py\", line 266, in update_function\n",
      "    setattr(old, name, getattr(new, name))\n",
      "ValueError: __init__() requires a code object with 0 free vars, not 1\n",
      "]\n"
     ]
    }
   ],
   "source": [
    "import pandas as pd\n",
    "import numpy as np\n",
    "from kick_cleaner import clean_kick_data, replace_kicker_with_num, kick_dictionary, model_comparison"
   ]
  },
  {
   "cell_type": "code",
   "execution_count": 47,
   "metadata": {},
   "outputs": [
    {
     "data": {
      "text/html": [
       "<div>\n",
       "<style scoped>\n",
       "    .dataframe tbody tr th:only-of-type {\n",
       "        vertical-align: middle;\n",
       "    }\n",
       "\n",
       "    .dataframe tbody tr th {\n",
       "        vertical-align: top;\n",
       "    }\n",
       "\n",
       "    .dataframe thead th {\n",
       "        text-align: right;\n",
       "    }\n",
       "</style>\n",
       "<table border=\"1\" class=\"dataframe\">\n",
       "  <thead>\n",
       "    <tr style=\"text-align: right;\">\n",
       "      <th></th>\n",
       "      <th>FieldGoalDistance</th>\n",
       "      <th>HomeTeam</th>\n",
       "      <th>Month</th>\n",
       "      <th>KickerName</th>\n",
       "      <th>FieldGoalResult</th>\n",
       "    </tr>\n",
       "  </thead>\n",
       "  <tbody>\n",
       "    <tr>\n",
       "      <th>0</th>\n",
       "      <td>25.0</td>\n",
       "      <td>DEN</td>\n",
       "      <td>9</td>\n",
       "      <td>J.Tucker</td>\n",
       "      <td>1.0</td>\n",
       "    </tr>\n",
       "    <tr>\n",
       "      <th>1</th>\n",
       "      <td>30.0</td>\n",
       "      <td>DEN</td>\n",
       "      <td>9</td>\n",
       "      <td>J.Tucker</td>\n",
       "      <td>1.0</td>\n",
       "    </tr>\n",
       "    <tr>\n",
       "      <th>2</th>\n",
       "      <td>48.0</td>\n",
       "      <td>BUF</td>\n",
       "      <td>9</td>\n",
       "      <td>S.Gostkowski</td>\n",
       "      <td>1.0</td>\n",
       "    </tr>\n",
       "    <tr>\n",
       "      <th>3</th>\n",
       "      <td>33.0</td>\n",
       "      <td>BUF</td>\n",
       "      <td>9</td>\n",
       "      <td>S.Gostkowski</td>\n",
       "      <td>1.0</td>\n",
       "    </tr>\n",
       "    <tr>\n",
       "      <th>4</th>\n",
       "      <td>35.0</td>\n",
       "      <td>BUF</td>\n",
       "      <td>9</td>\n",
       "      <td>S.Gostkowski</td>\n",
       "      <td>1.0</td>\n",
       "    </tr>\n",
       "  </tbody>\n",
       "</table>\n",
       "</div>"
      ],
      "text/plain": [
       "   FieldGoalDistance HomeTeam  Month    KickerName  FieldGoalResult\n",
       "0               25.0      DEN      9      J.Tucker              1.0\n",
       "1               30.0      DEN      9      J.Tucker              1.0\n",
       "2               48.0      BUF      9  S.Gostkowski              1.0\n",
       "3               33.0      BUF      9  S.Gostkowski              1.0\n",
       "4               35.0      BUF      9  S.Gostkowski              1.0"
      ]
     },
     "execution_count": 47,
     "metadata": {},
     "output_type": "execute_result"
    }
   ],
   "source": [
    "kick_df = clean_kick_data('field_goals.csv')\n",
    "kick_df.head()"
   ]
  },
  {
   "cell_type": "markdown",
   "metadata": {},
   "source": [
    "**turns kickers and stadiums into numerical values, change them in the dataframe**"
   ]
  },
  {
   "cell_type": "code",
   "execution_count": 4,
   "metadata": {},
   "outputs": [],
   "source": [
    "kickers_dict = kick_dictionary(kick_df, 'KickerName')\n",
    "stadium_dict = kick_dictionary(kick_df, 'HomeTeam')\n"
   ]
  },
  {
   "cell_type": "code",
   "execution_count": 5,
   "metadata": {},
   "outputs": [],
   "source": [
    "kick_df1 = replace_kicker_with_num(kick_df, 'KickerName')\n",
    "kick_df2 = replace_kicker_with_num(kick_df1, 'HomeTeam')"
   ]
  },
  {
   "cell_type": "markdown",
   "metadata": {},
   "source": [
    "## for log loss kickers/stadius have to be all dummy variables..."
   ]
  },
  {
   "cell_type": "code",
   "execution_count": 6,
   "metadata": {},
   "outputs": [
    {
     "data": {
      "text/html": [
       "<div>\n",
       "<style scoped>\n",
       "    .dataframe tbody tr th:only-of-type {\n",
       "        vertical-align: middle;\n",
       "    }\n",
       "\n",
       "    .dataframe tbody tr th {\n",
       "        vertical-align: top;\n",
       "    }\n",
       "\n",
       "    .dataframe thead th {\n",
       "        text-align: right;\n",
       "    }\n",
       "</style>\n",
       "<table border=\"1\" class=\"dataframe\">\n",
       "  <thead>\n",
       "    <tr style=\"text-align: right;\">\n",
       "      <th></th>\n",
       "      <th>FieldGoalDistance</th>\n",
       "      <th>HomeTeam</th>\n",
       "      <th>Month</th>\n",
       "      <th>KickerName</th>\n",
       "      <th>FieldGoalResult</th>\n",
       "    </tr>\n",
       "  </thead>\n",
       "  <tbody>\n",
       "    <tr>\n",
       "      <th>0</th>\n",
       "      <td>25.0</td>\n",
       "      <td>1</td>\n",
       "      <td>9</td>\n",
       "      <td>1</td>\n",
       "      <td>1.0</td>\n",
       "    </tr>\n",
       "    <tr>\n",
       "      <th>1</th>\n",
       "      <td>30.0</td>\n",
       "      <td>1</td>\n",
       "      <td>9</td>\n",
       "      <td>1</td>\n",
       "      <td>1.0</td>\n",
       "    </tr>\n",
       "    <tr>\n",
       "      <th>2</th>\n",
       "      <td>48.0</td>\n",
       "      <td>2</td>\n",
       "      <td>9</td>\n",
       "      <td>2</td>\n",
       "      <td>1.0</td>\n",
       "    </tr>\n",
       "    <tr>\n",
       "      <th>3</th>\n",
       "      <td>33.0</td>\n",
       "      <td>2</td>\n",
       "      <td>9</td>\n",
       "      <td>2</td>\n",
       "      <td>1.0</td>\n",
       "    </tr>\n",
       "    <tr>\n",
       "      <th>4</th>\n",
       "      <td>35.0</td>\n",
       "      <td>2</td>\n",
       "      <td>9</td>\n",
       "      <td>2</td>\n",
       "      <td>1.0</td>\n",
       "    </tr>\n",
       "  </tbody>\n",
       "</table>\n",
       "</div>"
      ],
      "text/plain": [
       "   FieldGoalDistance  HomeTeam  Month  KickerName  FieldGoalResult\n",
       "0               25.0         1      9           1              1.0\n",
       "1               30.0         1      9           1              1.0\n",
       "2               48.0         2      9           2              1.0\n",
       "3               33.0         2      9           2              1.0\n",
       "4               35.0         2      9           2              1.0"
      ]
     },
     "execution_count": 6,
     "metadata": {},
     "output_type": "execute_result"
    }
   ],
   "source": [
    "kick_df2.head()"
   ]
  },
  {
   "cell_type": "markdown",
   "metadata": {},
   "source": [
    "### splitting data and testing models "
   ]
  },
  {
   "cell_type": "code",
   "execution_count": 7,
   "metadata": {},
   "outputs": [],
   "source": [
    "from sklearn.linear_model import LogisticRegression\n",
    "from sklearn.metrics import log_loss\n",
    "from sklearn.model_selection import train_test_split\n",
    "from sklearn.ensemble import  RandomForestClassifier, GradientBoostingClassifier\n",
    "from sklearn.metrics import mean_squared_log_error, mean_squared_error"
   ]
  },
  {
   "cell_type": "code",
   "execution_count": 8,
   "metadata": {},
   "outputs": [],
   "source": [
    "test_df = kick_df2.sample(frac=0.200077, random_state=30)\n",
    "final_test_x = test_df.iloc[:, :-1]\n",
    "final_test_y = test_df.iloc[:, -1]"
   ]
  },
  {
   "cell_type": "code",
   "execution_count": 9,
   "metadata": {},
   "outputs": [],
   "source": [
    "train_df = kick_df2.drop(test_df.index)\n",
    "y = train_df.iloc[:, -1]\n",
    "data = train_df.iloc[:, :-1]"
   ]
  },
  {
   "cell_type": "markdown",
   "metadata": {},
   "source": [
    "### use stage predict for the gradient boost"
   ]
  },
  {
   "cell_type": "code",
   "execution_count": 10,
   "metadata": {},
   "outputs": [
    {
     "name": "stdout",
     "output_type": "stream",
     "text": [
      "Ensemble Log Loss 0.3612232438406258\n",
      "Gradient Boost Log Loss 0.36457688424272433\n",
      "Random Forest Log Loss 0.3691968603317342\n",
      "Logistic Log Loss 0.3570606763894418\n"
     ]
    },
    {
     "name": "stderr",
     "output_type": "stream",
     "text": [
      "[Parallel(n_jobs=1)]: Done 300 out of 300 | elapsed:    0.3s finished\n",
      "[Parallel(n_jobs=1)]: Done 300 out of 300 | elapsed:    0.0s finished\n"
     ]
    }
   ],
   "source": [
    "X_train, X_test, y_train, y_test = train_test_split(data,y)\n",
    "\n",
    "logistic_model = LogisticRegression()\n",
    "gradient_boost_model = GradientBoostingClassifier(learning_rate=0.005, max_depth=6, max_features='log2', min_samples_leaf=4, n_estimators=500, subsample=0.25)\n",
    "random_forest_model = RandomForestClassifier(n_estimators=300, max_depth=3, verbose=1)\n",
    "\n",
    "logistic_model.fit(X_train, y_train)\n",
    "gradient_boost_model.fit(X_train, y_train)\n",
    "random_forest_model.fit(X_train, y_train)\n",
    "\n",
    "p_random_forest = random_forest_model.predict_proba(X_test)\n",
    "p_gradient_boost =  gradient_boost_model.predict_proba(X_test)\n",
    "p_logistic = logistic_model.predict_proba(X_test)\n",
    "\n",
    "ensemble_p = (p_random_forest[:,1] + p_gradient_boost[:,1] + p_logistic[:,1])/3\n",
    "\n",
    "random_forest_ll = log_loss(y_test, p_random_forest )\n",
    "gradient_boost_ll = log_loss(y_test, p_gradient_boost )\n",
    "logistic_ll = log_loss(y_test, p_logistic )\n",
    "ensemble_ll = log_loss(y_test, ensemble_p )\n",
    "\n",
    "# fig, axs = plot_partial_dependence(gradient_boost_model, X = X_train, features = [0,1,2,3,(1,4)],\n",
    "#                                        feature_names=list(X_train.columns),\n",
    "#                                        n_jobs=1, grid_resolution=100, figsize = (20, 20))\n",
    "# plt.show()                                       \n",
    "\n",
    "\n",
    "print(\"Ensemble Log Loss \" + str(ensemble_ll))\n",
    "print(\"Gradient Boost Log Loss \" + str(gradient_boost_ll))\n",
    "print(\"Random Forest Log Loss \" + str(random_forest_ll))\n",
    "print(\"Logistic Log Loss \" + str(logistic_ll))"
   ]
  },
  {
   "cell_type": "markdown",
   "metadata": {},
   "source": [
    "** by log loss, logistic regression is the best **"
   ]
  },
  {
   "cell_type": "markdown",
   "metadata": {},
   "source": [
    "### using the logistic regression model to predict kick outcomes\n",
    "\n",
    "predicting kicker probabilities by inputting kicker name, stadium, month"
   ]
  },
  {
   "cell_type": "code",
   "execution_count": 11,
   "metadata": {},
   "outputs": [],
   "source": [
    "from kick_cleaner import kicker_dataframe"
   ]
  },
  {
   "cell_type": "code",
   "execution_count": 12,
   "metadata": {},
   "outputs": [
    {
     "data": {
      "text/plain": [
       "{'J.Tucker': 1,\n",
       " 'S.Gostkowski': 2,\n",
       " 'R.Bironas': 3,\n",
       " 'M.Bryant': 4,\n",
       " 'G.Hartley': 5,\n",
       " 'N.Folk': 6,\n",
       " 'R.Lindell': 7,\n",
       " 'S.Hauschka': 8,\n",
       " 'R.Gould': 9,\n",
       " 'C.Sturgis': 10,\n",
       " 'B.Cundiff': 11,\n",
       " 'B.Walsh': 12,\n",
       " 'S.Janikowski': 13,\n",
       " 'P.Dawson': 14,\n",
       " 'G.Zuerlein': 15,\n",
       " 'J.Feely': 16,\n",
       " 'D.Bailey': 17,\n",
       " 'J.Brown': 18,\n",
       " 'A.Henery': 19,\n",
       " 'K.Forbath': 20,\n",
       " 'R.Bullock': 21,\n",
       " 'N.Novak': 22,\n",
       " 'R.Succop': 23,\n",
       " 'A.Vinatieri': 24,\n",
       " 'M.Crosby': 25,\n",
       " 'D.Carpenter': 26,\n",
       " 'G.Gano': 27,\n",
       " 'J.Scobee': 28,\n",
       " 'M.Prater': 29,\n",
       " 'S.Suisham': 30,\n",
       " 'M.Nugent': 31,\n",
       " 'S.Graham': 32,\n",
       " 'C.Parkey': 33,\n",
       " 'C.Santos': 34,\n",
       " 'B.McManus': 35,\n",
       " 'C.Catanzaro': 36,\n",
       " 'P.Murray': 37,\n",
       " 'C.Barth': 38,\n",
       " 'T.Coons': 39,\n",
       " 'A.Franks': 40,\n",
       " 'J.Myers': 41,\n",
       " 'J.Lambo': 42,\n",
       " 'D.Hopkins': 43,\n",
       " 'C.Boswell': 44,\n",
       " 'R.Aguayo': 45,\n",
       " 'W.Lutz': 46,\n",
       " 'Z.Gonzalez': 47,\n",
       " 'A.Rosas': 48,\n",
       " 'K.Fairbairn': 49,\n",
       " 'J.Elliott': 50,\n",
       " 'H.Butker': 51}"
      ]
     },
     "execution_count": 12,
     "metadata": {},
     "output_type": "execute_result"
    }
   ],
   "source": [
    "#  stadium_dict\n",
    "kickers_dict"
   ]
  },
  {
   "cell_type": "code",
   "execution_count": 42,
   "metadata": {},
   "outputs": [],
   "source": [
    "hausch_kicks = kicker_dataframe(kickers_dict, stadium_dict, 'S.Hauschka', 'SEA', 10)\n",
    "bailey_kicks = kicker_dataframe(kickers_dict, stadium_dict, 'D.Bailey', 'NYG', 10)\n",
    "santos_kicks = kicker_dataframe(kickers_dict, stadium_dict, 'C.Santos', 'KC', 10)\n",
    "aguayo_kicks = kicker_dataframe(kickers_dict, stadium_dict, 'R.Aguayo', 'TB', 10)"
   ]
  },
  {
   "cell_type": "code",
   "execution_count": 14,
   "metadata": {},
   "outputs": [],
   "source": [
    "#essentially makes this but from 25 - 62 yards:\n",
    "\n",
    "possible_kicks = pd.DataFrame({'FieldGoalDistance': [25, 30, 35, 40, 45, 50, 55, 60],\n",
    "                              'HomeTeam': [15, 15, 15, 15, 15, 15, 15, 15],\n",
    "                              'Month': [10, 10, 10, 10, 10, 10, 10, 10],\n",
    "                              'KickerName': [45, 45, 45, 45, 45, 45, 45, 45]})"
   ]
  },
  {
   "cell_type": "code",
   "execution_count": 45,
   "metadata": {},
   "outputs": [
    {
     "data": {
      "text/plain": [
       "array([[0.05385017, 0.94614983],\n",
       "       [0.0531076 , 0.9468924 ],\n",
       "       [0.05878775, 0.94121225],\n",
       "       [0.06967376, 0.93032624],\n",
       "       [0.07246671, 0.92753329],\n",
       "       [0.06319197, 0.93680803],\n",
       "       [0.06539654, 0.93460346],\n",
       "       [0.07207677, 0.92792323],\n",
       "       [0.0705462 , 0.9294538 ],\n",
       "       [0.08859929, 0.91140071],\n",
       "       [0.09168981, 0.90831019],\n",
       "       [0.09890782, 0.90109218],\n",
       "       [0.10722418, 0.89277582],\n",
       "       [0.11069171, 0.88930829],\n",
       "       [0.10261111, 0.89738889],\n",
       "       [0.10268251, 0.89731749],\n",
       "       [0.09664084, 0.90335916],\n",
       "       [0.1135748 , 0.8864252 ],\n",
       "       [0.15095529, 0.84904471],\n",
       "       [0.16007578, 0.83992422],\n",
       "       [0.18995515, 0.81004485],\n",
       "       [0.28409063, 0.71590937],\n",
       "       [0.30704106, 0.69295894],\n",
       "       [0.3036627 , 0.6963373 ],\n",
       "       [0.25426173, 0.74573827],\n",
       "       [0.28337271, 0.71662729],\n",
       "       [0.30069941, 0.69930059],\n",
       "       [0.32162781, 0.67837219],\n",
       "       [0.37293872, 0.62706128],\n",
       "       [0.35604519, 0.64395481],\n",
       "       [0.36068354, 0.63931646],\n",
       "       [0.41580158, 0.58419842],\n",
       "       [0.58172169, 0.41827831],\n",
       "       [0.71402256, 0.28597744],\n",
       "       [0.74328166, 0.25671834],\n",
       "       [0.74872384, 0.25127616],\n",
       "       [0.73339648, 0.26660352]])"
      ]
     },
     "execution_count": 45,
     "metadata": {},
     "output_type": "execute_result"
    }
   ],
   "source": [
    "#over 90% from 25-39 yards\n",
    "#over 80% up to 47 yards\n",
    "#over 70% up to 51 yards\n",
    "#logistic_model.predict_proba(hausch_kicks)\n",
    "gradient_boost_model.predict_proba(hausch_kicks)"
   ]
  },
  {
   "cell_type": "code",
   "execution_count": 16,
   "metadata": {},
   "outputs": [
    {
     "data": {
      "text/plain": [
       "array([[0.03261356, 0.96738644],\n",
       "       [0.03595952, 0.96404048],\n",
       "       [0.03963468, 0.96036532],\n",
       "       [0.04366845, 0.95633155],\n",
       "       [0.04809219, 0.95190781],\n",
       "       [0.05293925, 0.94706075],\n",
       "       [0.05824495, 0.94175505],\n",
       "       [0.06404644, 0.93595356],\n",
       "       [0.0703826 , 0.9296174 ],\n",
       "       [0.07729383, 0.92270617],\n",
       "       [0.08482178, 0.91517822],\n",
       "       [0.09300902, 0.90699098],\n",
       "       [0.10189851, 0.89810149],\n",
       "       [0.11153316, 0.88846684],\n",
       "       [0.12195507, 0.87804493],\n",
       "       [0.13320483, 0.86679517],\n",
       "       [0.14532057, 0.85467943],\n",
       "       [0.158337  , 0.841663  ],\n",
       "       [0.17228431, 0.82771569],\n",
       "       [0.18718694, 0.81281306],\n",
       "       [0.20306241, 0.79693759],\n",
       "       [0.21992   , 0.78008   ],\n",
       "       [0.23775953, 0.76224047],\n",
       "       [0.25657021, 0.74342979],\n",
       "       [0.27632961, 0.72367039],\n",
       "       [0.29700281, 0.70299719],\n",
       "       [0.31854186, 0.68145814],\n",
       "       [0.34088551, 0.65911449],\n",
       "       [0.36395936, 0.63604064],\n",
       "       [0.38767641, 0.61232359],\n",
       "       [0.41193799, 0.58806201],\n",
       "       [0.43663522, 0.56336478],\n",
       "       [0.46165075, 0.53834925],\n",
       "       [0.48686089, 0.51313911],\n",
       "       [0.51213807, 0.48786193],\n",
       "       [0.53735331, 0.46264669],\n",
       "       [0.56237893, 0.43762107]])"
      ]
     },
     "execution_count": 16,
     "metadata": {},
     "output_type": "execute_result"
    }
   ],
   "source": [
    "logistic_model.predict_proba(bailey_kicks)"
   ]
  },
  {
   "cell_type": "code",
   "execution_count": 22,
   "metadata": {},
   "outputs": [],
   "source": [
    "#over 90% up to 39 yards\n",
    "#over 80% up to 47 yards\n",
    "#over 70% up to 51 yards\n",
    "bailey_kicks = gradient_boost_model.predict_proba(bailey_kicks)"
   ]
  },
  {
   "cell_type": "code",
   "execution_count": 31,
   "metadata": {},
   "outputs": [
    {
     "data": {
      "text/plain": [
       "37"
      ]
     },
     "execution_count": 31,
     "metadata": {},
     "output_type": "execute_result"
    }
   ],
   "source": [
    "bailey_prob_make = []\n",
    "for i in bailey_kicks:\n",
    "    bailey_prob_make.append(i[1])\n",
    "len(bailey_prob_make)"
   ]
  },
  {
   "cell_type": "code",
   "execution_count": 18,
   "metadata": {},
   "outputs": [],
   "source": [
    "# #over 90% up to 38 yards\n",
    "# #over 80% up to 45 yards\n",
    "# #over 70% up to 50 yards\n",
    "# logistic_model.predict_proba(santos_kicks)\n",
    "# gradient_boost_model.predict_proba(santos_kicks)\n",
    "# # random_forest_model.predict_proba(santos_kicks)"
   ]
  },
  {
   "cell_type": "code",
   "execution_count": 19,
   "metadata": {},
   "outputs": [],
   "source": [
    "# #over 90% up to 37 yards\n",
    "# #over 80% up to 43 yards\n",
    "# #over 70% up to 49 yards\n",
    "# logistic_model.predict_proba(aguayo_kicks)"
   ]
  },
  {
   "cell_type": "markdown",
   "metadata": {},
   "source": [
    "Find a way to compare the kickers more?"
   ]
  },
  {
   "cell_type": "markdown",
   "metadata": {},
   "source": [
    "### visualization"
   ]
  },
  {
   "cell_type": "code",
   "execution_count": 20,
   "metadata": {},
   "outputs": [],
   "source": [
    "import matplotlib.pyplot as plt"
   ]
  },
  {
   "cell_type": "code",
   "execution_count": 29,
   "metadata": {},
   "outputs": [
    {
     "data": {
      "text/plain": [
       "38"
      ]
     },
     "execution_count": 29,
     "metadata": {},
     "output_type": "execute_result"
    }
   ],
   "source": [
    "len(kick_distances)"
   ]
  },
  {
   "cell_type": "code",
   "execution_count": 36,
   "metadata": {},
   "outputs": [
    {
     "data": {
      "text/plain": [
       "Text(0.5,1,'Dan Bailey Kick Probability')"
      ]
     },
     "execution_count": 36,
     "metadata": {},
     "output_type": "execute_result"
    },
    {
     "data": {
      "image/png": "[encoded data removed]",
      "text/plain": [
       "<Figure size 432x288 with 1 Axes>"
      ]
     },
     "metadata": {},
     "output_type": "display_data"
    }
   ],
   "source": [
    "kick_distances = list(range(25, 62))\n",
    "kick_prob = bailey_prob_make.copy()\n",
    "plt.plot(kick_distances, kick_prob, color='green')\n",
    "plt.xlabel('Yardage of FG Attempt')\n",
    "plt.ylabel('Probability of Made FG')\n",
    "plt.title('Dan Bailey Kick Probability')"
   ]
  },
  {
   "cell_type": "code",
   "execution_count": null,
   "metadata": {},
   "outputs": [],
   "source": [
    "year = [1960, 1970, 1980, 1990, 2000, 2010]\n",
    "pop_pakistan = [44.91, 58.09, 78.07, 107.7, 138.5, 170.6]\n",
    "pop_india = [449.48, 553.57, 696.783, 870.133, 1000.\n",
    "4, 1309.1]\n",
    "plt.plot(year, pop_pakistan, color='g')\n",
    "plt.plot(year, pop_india, color='orange')\n",
    "plt.xlabel('Countries')\n",
    "plt.ylabel('Population in million')\n",
    "plt.title('Pakistan India Population till 2010')\n",
    "plt.show()"
   ]
  },
  {
   "cell_type": "code",
   "execution_count": null,
   "metadata": {},
   "outputs": [],
   "source": []
  },
  {
   "cell_type": "code",
   "execution_count": 39,
   "metadata": {},
   "outputs": [
    {
     "data": {
      "text/plain": [
       "41"
      ]
     },
     "execution_count": 39,
     "metadata": {},
     "output_type": "execute_result"
    }
   ],
   "source": [
    "len(list(range(25, 66)))"
   ]
  },
  {
   "cell_type": "code",
   "execution_count": null,
   "metadata": {},
   "outputs": [],
   "source": []
  },
  {
   "cell_type": "code",
   "execution_count": null,
   "metadata": {},
   "outputs": [],
   "source": []
  },
  {
   "cell_type": "code",
   "execution_count": null,
   "metadata": {},
   "outputs": [],
   "source": []
  },
  {
   "cell_type": "markdown",
   "metadata": {},
   "source": [
    "# run more gradient boost models with last 30 percent\n",
    "\n",
    "is there a python package for scraping NFL data"
   ]
  }
 ],
 "metadata": {
  "kernelspec": {
   "display_name": "Python 3",
   "language": "python",
   "name": "python3"
  },
  "language_info": {
   "codemirror_mode": {
    "name": "ipython",
    "version": 3
   },
   "file_extension": ".py",
   "mimetype": "text/x-python",
   "name": "python",
   "nbconvert_exporter": "python",
   "pygments_lexer": "ipython3",
   "version": "3.6.6"
  }
 },
 "nbformat": 4,
 "nbformat_minor": 2
}
